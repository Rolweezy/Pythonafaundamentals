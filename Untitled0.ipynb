{
  "nbformat": 4,
  "nbformat_minor": 0,
  "metadata": {
    "colab": {
      "provenance": []
    },
    "kernelspec": {
      "name": "python3",
      "display_name": "Python 3"
    },
    "language_info": {
      "name": "python"
    }
  },
  "cells": [
    {
      "cell_type": "code",
      "execution_count": null,
      "metadata": {
        "colab": {
          "base_uri": "https://localhost:8080/"
        },
        "id": "Jgh14a_4EGrL",
        "outputId": "9f640d61-e4a6-4855-e97e-38d2e093f02d"
      },
      "outputs": [
        {
          "output_type": "stream",
          "name": "stdout",
          "text": [
            "Hello World!\n"
          ]
        }
      ],
      "source": [
        "print ('Hello World!')"
      ]
    },
    {
      "cell_type": "markdown",
      "source": [
        "this is a text cell\n"
      ],
      "metadata": {
        "id": "AwA4B1LrJiVZ"
      }
    },
    {
      "cell_type": "code",
      "source": [
        "name= input(\"Enter your name here\":)\n",
        "high_school= input(\"Enter your high school name\":)\n",
        "tertiary_institution = input(\"Enter your college/university name\":)\n",
        "print f(\"\")"
      ],
      "metadata": {
        "id": "3o9p6XY8Jx00"
      },
      "execution_count": null,
      "outputs": []
    },
    {
      "cell_type": "markdown",
      "source": [
        "The Function\n"
      ],
      "metadata": {
        "id": "FQEGm-MIGcSq"
      }
    },
    {
      "cell_type": "code",
      "source": [
        "import random\n",
        "from datetime import datetime\n",
        "import pytz\n",
        "\n",
        "def get_date_time():\n",
        "  eat= pytz.timezone(\"Africa/Nairobi\")\n",
        "  eat_time= datetime.now(eat)\n",
        "  time_str= str(eat_time)\n",
        "  time_list= time_str.split(\"\")\n",
        "  current_date= time_list(0)\n",
        "  current_time= time_list[1].split(\".\")[0]\n",
        "  return current_date current_time\n",
        "  def promotional_message():\n",
        "    promotional_messages= [\"Sign up for Lipa na Mpesa online https://mpesaforbusiness.co.ke\",\"S\"]\n",
        "    return random.choice(promotional_messages)\n",
        "    def generates_transaction_code(current_date):\n",
        "      year, month, day= current_date.split(\"\")\n",
        "\n",
        "  def generates_transaction_code(current_date):\n",
        "    year,month,day\n",
        "\n",
        "    third character= day_mapping.get(day)\n",
        "    transaction_code= f\"{first_charactere}{second_character}{third_character}\"\n",
        "    possible_characters= [\"A\",\"B\",\"C\",\"D\",\"E\",\"F\",\"G\",\"H\",\"I\",\"J\",\"K\",\"L\",\"M\",\"N\",\"O\",\"P\",\"Q\",\"R\",\"S\",\"T\".\"U\",\"V\",\"W\",\"X\",\"Y\",\"Z\"]\n",
        "print(\"Welcome to Safaricom Tool Kit\")\n",
        "\n",
        "    for in range (3):\n",
        "      main options\n",
        "      If user_pin == mpesa_pin:\n",
        "      if amount <= mpesa_balance:\n",
        "        mpesa_balance -=\n",
        "\n",
        "      if buy_airtime_options ==\"I\":\n",
        "        amount =int(input (\"Enter The Amount You Want To Buy:\"))\n",
        "        user_pin=int(input(\"Enter Your PIN:\"))\n",
        "        if user_pin== Mpesa_pin\n",
        "        print (\"Transaction goes through\")\n",
        "        elif\n",
        "        print(\"Invalid Input\")\n",
        "\n",
        "elif my_acc_options==\"3\":\n",
        "  old_pin=\n",
        "\n",
        "\n"
      ],
      "metadata": {
        "id": "hckQycq4Kn4U"
      },
      "execution_count": null,
      "outputs": []
    },
    {
      "cell_type": "markdown",
      "source": [
        "Features to add\n",
        "1. Buy airtime; reflects on Safaricom+ > My acccount> Balance inquiry> Prepaid\n",
        "2. Getting Mpesa balance from Mpesa> My Account> Check Balance\n",
        "3. Change pin from Mpesa > My acccount > Pin Manager"
      ],
      "metadata": {
        "id": "GRrh7kzzUxLQ"
      }
    }
  ]
}
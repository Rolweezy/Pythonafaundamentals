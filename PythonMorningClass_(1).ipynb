{
  "nbformat": 4,
  "nbformat_minor": 0,
  "metadata": {
    "colab": {
      "provenance": [],
      "include_colab_link": true
    },
    "kernelspec": {
      "name": "python3",
      "display_name": "Python 3"
    },
    "language_info": {
      "name": "python"
    }
  },
  "cells": [
    {
      "cell_type": "markdown",
      "metadata": {
        "id": "view-in-github",
        "colab_type": "text"
      },
      "source": [
        "<a href=\"https://colab.research.google.com/github/Rolweezy/Pythonafaundamentals/blob/main/PythonMorningClass_(1).ipynb\" target=\"_parent\"><img src=\"https://colab.research.google.com/assets/colab-badge.svg\" alt=\"Open In Colab\"/></a>"
      ]
    },
    {
      "cell_type": "code",
      "execution_count": null,
      "metadata": {
        "colab": {
          "base_uri": "https://localhost:8080/"
        },
        "id": "NQiDWaBiAwal",
        "outputId": "5e95a6d1-d54a-4377-c8ad-18fcdca2642c"
      },
      "outputs": [
        {
          "output_type": "stream",
          "name": "stdout",
          "text": [
            "Test\n"
          ]
        }
      ],
      "source": [
        "print(\"Test\")"
      ]
    },
    {
      "cell_type": "markdown",
      "source": [
        "This is a sample text"
      ],
      "metadata": {
        "id": "8wtv-cgwGena"
      }
    },
    {
      "cell_type": "code",
      "source": [
        "print(\"This is a sample text\")"
      ],
      "metadata": {
        "colab": {
          "base_uri": "https://localhost:8080/"
        },
        "id": "HmOWMjuXEIp9",
        "outputId": "122f19b6-2516-4136-f29d-8b2d94d98278"
      },
      "execution_count": null,
      "outputs": [
        {
          "output_type": "stream",
          "name": "stdout",
          "text": [
            "This is a sample text\n"
          ]
        }
      ]
    },
    {
      "cell_type": "markdown",
      "source": [
        "- Interpreted Languages - are executed a single line at a time - eg Python (slower in comparison)\n",
        "\n",
        "- Compiled Languages - are packaged into one then executed as a whole - eg. C, C++, C# (faster than interpreted languages)"
      ],
      "metadata": {
        "id": "UVKI7huYHXWx"
      }
    },
    {
      "cell_type": "markdown",
      "source": [
        "Comments - a comment is a line within code that is not executed"
      ],
      "metadata": {
        "id": "XOLXEhT3JwNk"
      }
    },
    {
      "cell_type": "code",
      "source": [
        "print(\"eMobilis Technology Training Institute\")\n",
        "# print(\"Data Science\")\n",
        "print(\"I am excited to be here\")"
      ],
      "metadata": {
        "colab": {
          "base_uri": "https://localhost:8080/"
        },
        "id": "1SSc3jqgG0km",
        "outputId": "eceddafd-fff0-4792-bb56-7bf94e7685fb"
      },
      "execution_count": null,
      "outputs": [
        {
          "output_type": "stream",
          "name": "stdout",
          "text": [
            "eMobilis Technology Training Institute\n",
            "I am excited to be here\n"
          ]
        }
      ]
    },
    {
      "cell_type": "code",
      "source": [
        "# code to display the high school I went to\n",
        "print(\"Nairobi School\")"
      ],
      "metadata": {
        "colab": {
          "base_uri": "https://localhost:8080/"
        },
        "id": "7di6VPPbIu0Y",
        "outputId": "65361bb7-2423-427c-ebfe-23b54209a6ee"
      },
      "execution_count": null,
      "outputs": [
        {
          "output_type": "stream",
          "name": "stdout",
          "text": [
            "Nairobi School\n"
          ]
        }
      ]
    },
    {
      "cell_type": "markdown",
      "source": [
        "Variables - store values\n"
      ],
      "metadata": {
        "id": "7C9dBJauLEAI"
      }
    },
    {
      "cell_type": "code",
      "source": [
        "name = \"Peter Gachuki\"\n",
        "\n",
        "print(name)"
      ],
      "metadata": {
        "colab": {
          "base_uri": "https://localhost:8080/"
        },
        "id": "M5lPzB0vKR9V",
        "outputId": "2040facb-ed70-4997-e21c-ec26df308f2e"
      },
      "execution_count": null,
      "outputs": [
        {
          "output_type": "stream",
          "name": "stdout",
          "text": [
            "Peter Gachuki\n"
          ]
        }
      ]
    },
    {
      "cell_type": "code",
      "source": [
        "country = \"Kenya\"\n",
        "county = \"Nairobi County\"\n",
        "constituency = \"Kasarani Constituency\"\n",
        "\n",
        "print(country)\n",
        "print(county)\n",
        "print(constituency)"
      ],
      "metadata": {
        "colab": {
          "base_uri": "https://localhost:8080/"
        },
        "id": "Y1l3u4m-LmcN",
        "outputId": "1211d7c8-005e-4185-937f-45957aa2edae"
      },
      "execution_count": null,
      "outputs": [
        {
          "output_type": "stream",
          "name": "stdout",
          "text": [
            "Kenya\n",
            "Nairobi County\n",
            "Kasarani Constituency\n"
          ]
        }
      ]
    },
    {
      "cell_type": "code",
      "source": [
        "age = 30\n",
        "weight = 70.5\n",
        "\n",
        "print(age)\n",
        "print(weight)"
      ],
      "metadata": {
        "colab": {
          "base_uri": "https://localhost:8080/"
        },
        "id": "vYAgu7EaMbNW",
        "outputId": "2402f5f2-5205-406d-ca2b-dbd9c0c61a9d"
      },
      "execution_count": null,
      "outputs": [
        {
          "output_type": "stream",
          "name": "stdout",
          "text": [
            "30\n",
            "70.5\n"
          ]
        }
      ]
    },
    {
      "cell_type": "code",
      "source": [
        "print(type(country))\n",
        "print(type(age))\n",
        "print(type(weight))"
      ],
      "metadata": {
        "colab": {
          "base_uri": "https://localhost:8080/"
        },
        "id": "Q_z79vSsNa8w",
        "outputId": "bdfa095f-ef0a-4b30-8fc9-416a32f61de1"
      },
      "execution_count": null,
      "outputs": [
        {
          "output_type": "stream",
          "name": "stdout",
          "text": [
            "<class 'str'>\n",
            "<class 'int'>\n",
            "<class 'float'>\n"
          ]
        }
      ]
    },
    {
      "cell_type": "code",
      "source": [
        "jina = \"John Doe\"\n",
        "\n",
        "print(jina)"
      ],
      "metadata": {
        "colab": {
          "base_uri": "https://localhost:8080/"
        },
        "id": "hL2IobaeNv0k",
        "outputId": "31d7c354-2c11-4908-85db-ecff1447dcc3"
      },
      "execution_count": null,
      "outputs": [
        {
          "output_type": "stream",
          "name": "stdout",
          "text": [
            "John Doe\n"
          ]
        }
      ]
    },
    {
      "cell_type": "markdown",
      "source": [
        "Rules followed when naming variables:\n",
        "\n",
        "- You can only use uppercase, lowercase, underscores or numbers\n",
        "- You should always start variable names with lowercase letters\n",
        "- You should not have white spaces within a variable name\n",
        "1. Snake casing\n",
        "2. Camel casing"
      ],
      "metadata": {
        "id": "YCAJGUbuPeHk"
      }
    },
    {
      "cell_type": "code",
      "source": [
        "first_name = \"Ronald\"\n",
        "last_name = \"Oluoch\"\n",
        "\n",
        "primarySchool = \"Jikaze Primary\"\n",
        "highSchool = \"Hekima Secondary\"\n",
        "\n",
        "print(f\"My name is {first_name} {last_name}. I went to Primary School at {primarySchool} and then to {highSchool} for my Secondary School Education.\")"
      ],
      "metadata": {
        "colab": {
          "base_uri": "https://localhost:8080/"
        },
        "id": "Tu9TyQWMPQf-",
        "outputId": "7b24e838-8727-4dff-acb4-1a1b78307b65"
      },
      "execution_count": 1,
      "outputs": [
        {
          "output_type": "stream",
          "name": "stdout",
          "text": [
            "My name is Ronald Oluoch. I went to Primary School at Jikaze Primary and then to Hekima Secondary for my Secondary School Education.\n"
          ]
        }
      ]
    },
    {
      "cell_type": "code",
      "source": [
        "full_name = input(\"Enter your name here : \")\n",
        "age = input(\"Enter your age here : \")\n",
        "hobby = input(\"Enter your favourite hobby here : \")\n",
        "\n",
        "print(f\"My name is {full_name}. I am {age} years old and my favourite hobby is {hobby}.\")"
      ],
      "metadata": {
        "colab": {
          "base_uri": "https://localhost:8080/"
        },
        "id": "IyBWc736TyoB",
        "outputId": "2f4f14b2-a74e-4657-b908-c499feedc017"
      },
      "execution_count": null,
      "outputs": [
        {
          "output_type": "stream",
          "name": "stdout",
          "text": [
            "Enter your name here : Mark Kenny\n",
            "Enter your age here : 50\n",
            "Enter your favourite hobby here : Running\n",
            "My name is Mark Kenny. I am 50 years old and my favourite hobby is Running.\n"
          ]
        }
      ]
    },
    {
      "cell_type": "code",
      "source": [
        "print(type(full_name))\n",
        "print(type(age))\n",
        "print(type(hobby))"
      ],
      "metadata": {
        "colab": {
          "base_uri": "https://localhost:8080/"
        },
        "id": "6JBIIYjeVWKt",
        "outputId": "79a27f7f-8dbf-42cf-8bf7-1ed4d91f441a"
      },
      "execution_count": null,
      "outputs": [
        {
          "output_type": "stream",
          "name": "stdout",
          "text": [
            "<class 'str'>\n",
            "<class 'str'>\n",
            "<class 'str'>\n"
          ]
        }
      ]
    },
    {
      "cell_type": "markdown",
      "source": [
        "Write a python script that does the following\n",
        "\n",
        "- Prompts a user to enter their full name, age, gender(Male or Female) residence and home county\n",
        "\n",
        "- Prints output eg. My name is John Doe, a 35 year old male from Mombasa County , currently living in Nairobi West"
      ],
      "metadata": {
        "id": "_NRkJad1ZigW"
      }
    },
    {
      "cell_type": "code",
      "source": [
        "full_name = input(\"Enter your full name here : \")\n",
        "age = input(\"Enter your age here : \")\n",
        "gender = input(\"Enter your gender here : \")\n",
        "county = input(\"Enter your county here : \")\n",
        "residence = input(\"Enter your residence here : \")\n",
        "\n",
        "print(f\"My name is {full_name}, a {age} year old {gender} from {county}, currently living in {residence}\")\n"
      ],
      "metadata": {
        "colab": {
          "base_uri": "https://localhost:8080/"
        },
        "id": "4wxxPkayXBUm",
        "outputId": "cef083fc-37ea-4061-87f3-4769e5ff2de3"
      },
      "execution_count": null,
      "outputs": [
        {
          "output_type": "stream",
          "name": "stdout",
          "text": [
            "Enter your full name here : Timothy Mulindi\n",
            "Enter your age here : 31\n",
            "Enter your gender here : Male\n",
            "Enter your county here : Machakos\n",
            "Enter your residence here : Juja\n",
            "My name is Timothy Mulindi, a 31 year old Male from Machakos, currently living in Juja\n"
          ]
        }
      ]
    },
    {
      "cell_type": "markdown",
      "source": [
        "Datatypes in Python\n",
        "\n",
        "- Strings - characters, words, sentences, paragraphs etc\n",
        "- Numerical datatypes\n",
        "1. Integers\n",
        "2. Float\n",
        "- Booleans - True or False\n",
        "- Sequential datatypes\n",
        "- Dictionaries"
      ],
      "metadata": {
        "id": "3Asz4gdbhXxT"
      }
    },
    {
      "cell_type": "code",
      "source": [
        "print(\"This is Peter's laptop\")"
      ],
      "metadata": {
        "colab": {
          "base_uri": "https://localhost:8080/"
        },
        "id": "RkyfY4dvgRFW",
        "outputId": "cad77d7a-c416-4efb-ad41-ab8500b392a1"
      },
      "execution_count": null,
      "outputs": [
        {
          "output_type": "stream",
          "name": "stdout",
          "text": [
            "This is Peter's laptop\n"
          ]
        }
      ]
    },
    {
      "cell_type": "code",
      "source": [
        "print(\"25\" + \"50\")"
      ],
      "metadata": {
        "colab": {
          "base_uri": "https://localhost:8080/"
        },
        "id": "1BSWFoeliZtS",
        "outputId": "1a6bbcb1-624c-43f2-8f49-93266e870d59"
      },
      "execution_count": null,
      "outputs": [
        {
          "output_type": "stream",
          "name": "stdout",
          "text": [
            "2550\n"
          ]
        }
      ]
    },
    {
      "cell_type": "code",
      "source": [
        "print(type(age))"
      ],
      "metadata": {
        "colab": {
          "base_uri": "https://localhost:8080/"
        },
        "id": "TPIM8tKri4JL",
        "outputId": "3f6893a8-e754-4f5a-ac76-4b3138c2d9bf"
      },
      "execution_count": null,
      "outputs": [
        {
          "output_type": "stream",
          "name": "stdout",
          "text": [
            "<class 'str'>\n"
          ]
        }
      ]
    },
    {
      "cell_type": "code",
      "source": [
        "age = int(age)"
      ],
      "metadata": {
        "id": "SuvJVHRLkM4e"
      },
      "execution_count": null,
      "outputs": []
    },
    {
      "cell_type": "code",
      "source": [
        "print(type(age))"
      ],
      "metadata": {
        "colab": {
          "base_uri": "https://localhost:8080/"
        },
        "id": "FOVC1OA0konX",
        "outputId": "e240c81e-d077-43a3-aafc-0175e3ad6b60"
      },
      "execution_count": null,
      "outputs": [
        {
          "output_type": "stream",
          "name": "stdout",
          "text": [
            "<class 'int'>\n"
          ]
        }
      ]
    },
    {
      "cell_type": "code",
      "source": [
        "print(2025 - age)"
      ],
      "metadata": {
        "colab": {
          "base_uri": "https://localhost:8080/"
        },
        "id": "sm16PjQKjivZ",
        "outputId": "ade9f1de-1fd8-4815-8042-180f804e25e3"
      },
      "execution_count": null,
      "outputs": [
        {
          "output_type": "stream",
          "name": "stdout",
          "text": [
            "1994\n"
          ]
        }
      ]
    },
    {
      "cell_type": "markdown",
      "source": [
        "Write a python script that does the following:\n",
        "\n",
        "- Takes age of a user using an input function\n",
        "\n",
        "- Calculates the number of years after independence they were born ( independence - 1963)\n",
        "\n",
        "- Outputs the result eg You were born 40 years after Kenya got its independence"
      ],
      "metadata": {
        "id": "hWgIghnAlskA"
      }
    },
    {
      "cell_type": "code",
      "source": [
        "age = input(\"Enter your age here : \")\n",
        "\n",
        "age = int(age)\n",
        "\n",
        "current_year = 2025\n",
        "\n",
        "y_o_b = current_year - age\n",
        "\n",
        "independence_year = 1963\n",
        "\n",
        "years_after_independence = y_o_b - independence_year\n",
        "\n",
        "print(f\"You were born {years_after_independence} years after Kenya got independence.\")"
      ],
      "metadata": {
        "id": "sx7e-8LdkGKd",
        "colab": {
          "base_uri": "https://localhost:8080/"
        },
        "outputId": "33637d06-110b-48e6-b20c-05313851803b"
      },
      "execution_count": null,
      "outputs": [
        {
          "output_type": "stream",
          "name": "stdout",
          "text": [
            "Enter your age here : 30\n",
            "You were born 32 years after Kenya got independence.\n"
          ]
        }
      ]
    },
    {
      "cell_type": "code",
      "source": [
        "# Booleans - true or false values\n",
        "\n",
        "is_hungry = True\n",
        "is_present = False"
      ],
      "metadata": {
        "id": "SqUiUV-vUqQU"
      },
      "execution_count": null,
      "outputs": []
    },
    {
      "cell_type": "code",
      "source": [
        "int_40 = 40\n",
        "str_40 = \"40\"\n",
        "\n",
        "print(20 + int(str_40))"
      ],
      "metadata": {
        "colab": {
          "base_uri": "https://localhost:8080/"
        },
        "id": "mBW60dwFQO6q",
        "outputId": "0a0c2bec-f8c3-4866-d2ad-193dc1e721cb"
      },
      "execution_count": null,
      "outputs": [
        {
          "output_type": "stream",
          "name": "stdout",
          "text": [
            "60\n"
          ]
        }
      ]
    },
    {
      "cell_type": "markdown",
      "source": [
        "String Methods"
      ],
      "metadata": {
        "id": "0UU0emN8VRet"
      }
    },
    {
      "cell_type": "code",
      "source": [
        "language = \"Python\"\n",
        "\n",
        "print(type(language))"
      ],
      "metadata": {
        "colab": {
          "base_uri": "https://localhost:8080/"
        },
        "id": "Iivz5VtfQ75J",
        "outputId": "5e37adf2-33c4-40cf-f86c-d1add8edda27"
      },
      "execution_count": null,
      "outputs": [
        {
          "output_type": "stream",
          "name": "stdout",
          "text": [
            "<class 'str'>\n"
          ]
        }
      ]
    },
    {
      "cell_type": "markdown",
      "source": [
        ".upper() - converts the string to uppercase"
      ],
      "metadata": {
        "id": "uzaWX9aPVr4h"
      }
    },
    {
      "cell_type": "code",
      "source": [
        "print(language.upper())"
      ],
      "metadata": {
        "colab": {
          "base_uri": "https://localhost:8080/"
        },
        "id": "_WdmEfztVcBf",
        "outputId": "87da143c-19fd-49c4-c2b4-c2b63dd8c61f"
      },
      "execution_count": null,
      "outputs": [
        {
          "output_type": "stream",
          "name": "stdout",
          "text": [
            "PYTHON\n"
          ]
        }
      ]
    },
    {
      "cell_type": "markdown",
      "source": [
        ".lower() - converts the string to lowercase"
      ],
      "metadata": {
        "id": "w2cgXJmsWS-S"
      }
    },
    {
      "cell_type": "code",
      "source": [
        "print(language.lower())"
      ],
      "metadata": {
        "colab": {
          "base_uri": "https://localhost:8080/"
        },
        "id": "VRsA76HdVyas",
        "outputId": "b1b44785-fdb1-491d-9d0f-539091df4ca0"
      },
      "execution_count": null,
      "outputs": [
        {
          "output_type": "stream",
          "name": "stdout",
          "text": [
            "python\n"
          ]
        }
      ]
    },
    {
      "cell_type": "markdown",
      "source": [
        ".replace()"
      ],
      "metadata": {
        "id": "9M-f555AWlgs"
      }
    },
    {
      "cell_type": "code",
      "source": [
        "language = language.replace(\"P\", \"J\")\n",
        "print(language)"
      ],
      "metadata": {
        "colab": {
          "base_uri": "https://localhost:8080/"
        },
        "id": "YZYDezglWbQO",
        "outputId": "ad95ddb4-0a24-4414-f304-16cd0207782a"
      },
      "execution_count": null,
      "outputs": [
        {
          "output_type": "stream",
          "name": "stdout",
          "text": [
            "Jython\n"
          ]
        }
      ]
    },
    {
      "cell_type": "code",
      "source": [
        "sample_text = \"The quick brown fox  jumps over the lazy dog.\"\n",
        "sample_text = sample_text.replace(\"  \", \" \")\n",
        "print(sample_text)"
      ],
      "metadata": {
        "colab": {
          "base_uri": "https://localhost:8080/"
        },
        "id": "_Oel9SbpWyKZ",
        "outputId": "afad5ad4-40c3-4e76-dee4-91f1fbfedda1"
      },
      "execution_count": null,
      "outputs": [
        {
          "output_type": "stream",
          "name": "stdout",
          "text": [
            "The quick brown fox jumps over the lazy dog.\n"
          ]
        }
      ]
    },
    {
      "cell_type": "markdown",
      "source": [
        "Write a python script that does the following:\n",
        "\n",
        "1. Takes inputs from a user - name, religion, marital status, number of children, and a list of things they love doing(separated with spaces)\n",
        "\n",
        "2. Convert the name, religion and marital status to uppercase\n",
        "\n",
        "3. Convert the number of children into an integer then find out how many more children they have to bear to equal Akuku Danger's 200\n",
        "\n",
        "4. Replace the spaces in list of things they love doing with commas eg replace 'running cooking talking' with 'running, cooking, talking'"
      ],
      "metadata": {
        "id": "mHq0mwIIZPH_"
      }
    },
    {
      "cell_type": "code",
      "source": [
        "name = input(\"Enter your name here : \").upper()\n",
        "religion = input(\"Enter your religion here : \").upper()\n",
        "marital_status = input(\"Enter your marital status here : \").upper()\n",
        "number_of_children = int(input(\"Enter your number of children you have here : \"))\n",
        "things_you_love_doing = input(\"Enter the things you love doing here : \").replace(\" \", \", \")\n",
        "\n",
        "akuku_children = 200\n",
        "\n",
        "difference = akuku_children - number_of_children\n",
        "\n",
        "print(f\"My name is {name}. I am a {religion} and I am also {marital_status}. I am {difference} children away from equalling Akuku Danger's children. I love {things_you_love_doing}\")\n"
      ],
      "metadata": {
        "colab": {
          "base_uri": "https://localhost:8080/"
        },
        "id": "MV3yIyxkXKQR",
        "outputId": "8be01201-24b5-47a6-9bc9-1e31f90a0f18"
      },
      "execution_count": null,
      "outputs": [
        {
          "output_type": "stream",
          "name": "stdout",
          "text": [
            "Enter your name here : Nicodemus Onyancha\n",
            "Enter your religion here : Christian\n",
            "Enter your marital status here : Married\n",
            "Enter your number of children you have here : 5\n",
            "Enter the things you love doing here : exercise reading writing\n",
            "My name is NICODEMUS ONYANCHA. I am a CHRISTIAN and I am also MARRIED. I am 195 children away from equalling Akuku Danger's children. I love exercise, reading, writing\n"
          ]
        }
      ]
    },
    {
      "cell_type": "markdown",
      "source": [
        ".split() -"
      ],
      "metadata": {
        "id": "Fo6Wxb-RkW6E"
      }
    },
    {
      "cell_type": "code",
      "source": [
        "paragraph = \"This is a sample message. It does not do much. It is just there for show\"\n",
        "\n",
        "print(paragraph.split(\".\"))"
      ],
      "metadata": {
        "colab": {
          "base_uri": "https://localhost:8080/"
        },
        "id": "nDWi5X_1jl9k",
        "outputId": "4aa95dda-aaa3-42b8-de1f-601b8d515d2f"
      },
      "execution_count": null,
      "outputs": [
        {
          "output_type": "stream",
          "name": "stdout",
          "text": [
            "['This is a sample message', ' It does not do much', ' It is just there for show']\n"
          ]
        }
      ]
    },
    {
      "cell_type": "markdown",
      "source": [
        "Arithmetic Operators\n",
        "\n",
        "- Addition +\n",
        "- Subtraction -\n",
        "- Multiplication *\n",
        "- Division /\n",
        "- Floor Division // - quotient\n",
        "- Modulus % - remainder\n",
        "- Exponent ** - power"
      ],
      "metadata": {
        "id": "ysCreXr2lZnb"
      }
    },
    {
      "cell_type": "code",
      "source": [
        "print(10 + 50)"
      ],
      "metadata": {
        "colab": {
          "base_uri": "https://localhost:8080/"
        },
        "id": "ypXGDRrZkmJx",
        "outputId": "cc4a371b-29c2-4356-a6ee-dfcefea92987"
      },
      "execution_count": null,
      "outputs": [
        {
          "output_type": "stream",
          "name": "stdout",
          "text": [
            "60\n"
          ]
        }
      ]
    },
    {
      "cell_type": "code",
      "source": [
        "print(100 - 27)"
      ],
      "metadata": {
        "colab": {
          "base_uri": "https://localhost:8080/"
        },
        "id": "OYxUZeN2oOnY",
        "outputId": "be03e607-929b-4539-f1b4-656c907532b0"
      },
      "execution_count": null,
      "outputs": [
        {
          "output_type": "stream",
          "name": "stdout",
          "text": [
            "73\n"
          ]
        }
      ]
    },
    {
      "cell_type": "code",
      "source": [
        "print(45 * 8)"
      ],
      "metadata": {
        "colab": {
          "base_uri": "https://localhost:8080/"
        },
        "id": "IqkR7P_CoQtF",
        "outputId": "059c569a-2589-46eb-a8cc-62f46d6aaa52"
      },
      "execution_count": null,
      "outputs": [
        {
          "output_type": "stream",
          "name": "stdout",
          "text": [
            "360\n"
          ]
        }
      ]
    },
    {
      "cell_type": "code",
      "source": [
        "print(489 / 17)"
      ],
      "metadata": {
        "colab": {
          "base_uri": "https://localhost:8080/"
        },
        "id": "yP3uGtvkoUET",
        "outputId": "af180617-e387-4fba-f7b3-069288596518"
      },
      "execution_count": null,
      "outputs": [
        {
          "output_type": "stream",
          "name": "stdout",
          "text": [
            "28.764705882352942\n"
          ]
        }
      ]
    },
    {
      "cell_type": "code",
      "source": [
        "print(489 // 17)"
      ],
      "metadata": {
        "colab": {
          "base_uri": "https://localhost:8080/"
        },
        "id": "hCK5B8L9oX9w",
        "outputId": "f80fcbe3-9aa3-4f57-fd0b-582747738aad"
      },
      "execution_count": null,
      "outputs": [
        {
          "output_type": "stream",
          "name": "stdout",
          "text": [
            "28\n"
          ]
        }
      ]
    },
    {
      "cell_type": "code",
      "source": [
        "print(10 % 3)"
      ],
      "metadata": {
        "colab": {
          "base_uri": "https://localhost:8080/"
        },
        "id": "0NHP7yvoon7_",
        "outputId": "b2052330-dbda-406a-a492-ded74026f623"
      },
      "execution_count": null,
      "outputs": [
        {
          "output_type": "stream",
          "name": "stdout",
          "text": [
            "1\n"
          ]
        }
      ]
    },
    {
      "cell_type": "code",
      "source": [
        "# floor division - quotient\n",
        "# modulus - remainder\n",
        "\n",
        "# 10 / 3 is equal to floor_division remainder modulus\n",
        "\n",
        "print(2 ** 3)"
      ],
      "metadata": {
        "colab": {
          "base_uri": "https://localhost:8080/"
        },
        "id": "NY2ZnxRtoy5y",
        "outputId": "bcbb7491-7579-47fa-8db8-5cbdd1414670"
      },
      "execution_count": null,
      "outputs": [
        {
          "output_type": "stream",
          "name": "stdout",
          "text": [
            "8\n"
          ]
        }
      ]
    },
    {
      "cell_type": "markdown",
      "source": [
        "Write a python script that does the following:\n",
        "\n",
        "1. Takes two number inputs from the user\n",
        "2. Calculates the sum, difference, product, division, floor division, exponent, modulus result and returns to the user\n",
        "3. eg 10 / 3 is 3 remainder 1"
      ],
      "metadata": {
        "id": "YpNTP0cVqlK4"
      }
    },
    {
      "cell_type": "code",
      "source": [
        "num1 =  int(input(\"Enter your first number here : \"))\n",
        "num2 =  int(input(\"Enter your second number here : \"))\n",
        "\n",
        "sum = num1 + num2\n",
        "diff = num1 - num2\n",
        "prod = num1 * num2\n",
        "div = num1 / num2\n",
        "floor_div = num1 // num2\n",
        "modulus = num1 % num2\n",
        "exponent = num1 ** num2\n",
        "\n",
        "print(f\"Given {num1} and {num2} respectively, their sum is {sum}, difference is {diff}, product is {prod}, division is {div}, floor division is {floor_div}, modulus is {modulus} and exponent is {exponent}\")\n",
        "\n",
        "print(f\"{num1} / {num2} is {floor_div} remainder {modulus}\")"
      ],
      "metadata": {
        "colab": {
          "base_uri": "https://localhost:8080/"
        },
        "id": "e0Fs5PyAqKdP",
        "outputId": "1f830f09-388a-4a0f-dfb9-bfc60a023726"
      },
      "execution_count": null,
      "outputs": [
        {
          "output_type": "stream",
          "name": "stdout",
          "text": [
            "Enter your first number here : 34\n",
            "Enter your second number here : 12\n",
            "Given 34 and 12 respectively, their sum is 46, difference is 22, product is 408, division is 2.8333333333333335, floor division is 2, modulus is 10 and exponent is 2386420683693101056\n",
            "34 / 12 is 2 remainder 10\n"
          ]
        }
      ]
    },
    {
      "cell_type": "markdown",
      "source": [
        "Assignment Operators\n",
        "\n",
        "Assign =\n",
        "\n",
        "Add and assign +=\n",
        "\n",
        "Subtract and assign -=\n",
        "\n",
        "Multiply and assign *=\n",
        "\n",
        "Divide and assign /=\n",
        "\n",
        "Floor divide and assign //=\n",
        "\n",
        "Modulus and assign %=\n",
        "\n",
        "Exponent and assign"
      ],
      "metadata": {
        "id": "lksRO2A9YWFv"
      }
    },
    {
      "cell_type": "code",
      "source": [
        "phone = \"Samsung\"\n",
        "\n",
        "print(1 == 1)"
      ],
      "metadata": {
        "id": "fnGGBmYCwP5r",
        "colab": {
          "base_uri": "https://localhost:8080/"
        },
        "outputId": "25927c09-c190-437c-a9c3-65505d0bf768"
      },
      "execution_count": null,
      "outputs": [
        {
          "output_type": "stream",
          "name": "stdout",
          "text": [
            "True\n"
          ]
        }
      ]
    },
    {
      "cell_type": "code",
      "source": [
        "number = 5\n",
        "\n",
        "# number = number + 3\n",
        "number += 3\n",
        "\n",
        "print(number)"
      ],
      "metadata": {
        "colab": {
          "base_uri": "https://localhost:8080/"
        },
        "id": "aSbCRROJY0od",
        "outputId": "8cc0bd88-a158-4a07-d803-116da803a952"
      },
      "execution_count": null,
      "outputs": [
        {
          "output_type": "stream",
          "name": "stdout",
          "text": [
            "8\n"
          ]
        }
      ]
    },
    {
      "cell_type": "code",
      "source": [
        "number = 20\n",
        "\n",
        "# number = number - 7\n",
        "number -= 7\n",
        "\n",
        "print(number)"
      ],
      "metadata": {
        "colab": {
          "base_uri": "https://localhost:8080/"
        },
        "id": "d9n84HbfaEmj",
        "outputId": "8c6a9f5b-3d29-426b-f4af-7e87bce4c121"
      },
      "execution_count": null,
      "outputs": [
        {
          "output_type": "stream",
          "name": "stdout",
          "text": [
            "13\n"
          ]
        }
      ]
    },
    {
      "cell_type": "markdown",
      "source": [
        "Comparison Operators - return a boolean value\n",
        "\n",
        "Equal to ==\n",
        "\n",
        "Not equal to !=\n",
        "\n",
        "Greater than >\n",
        "\n",
        "Less than <\n",
        "\n",
        "Greater than or equal to >=\n",
        "\n",
        "Less than or equal to <="
      ],
      "metadata": {
        "id": "h9CZg_bobPZh"
      }
    },
    {
      "cell_type": "code",
      "source": [
        "print(1200 == 5000)"
      ],
      "metadata": {
        "colab": {
          "base_uri": "https://localhost:8080/"
        },
        "id": "vpJPkBTRavIz",
        "outputId": "52c38ad4-a4ef-4866-948b-9f1b60399e5d"
      },
      "execution_count": null,
      "outputs": [
        {
          "output_type": "execute_result",
          "data": {
            "text/plain": [
              "False"
            ]
          },
          "metadata": {},
          "execution_count": 13
        }
      ]
    },
    {
      "cell_type": "code",
      "source": [
        "print(\"Peter\" != 43)"
      ],
      "metadata": {
        "colab": {
          "base_uri": "https://localhost:8080/"
        },
        "id": "TtATMvS6b0KK",
        "outputId": "e23494c1-0384-4d8f-de6f-97971d692ce9"
      },
      "execution_count": null,
      "outputs": [
        {
          "output_type": "execute_result",
          "data": {
            "text/plain": [
              "True"
            ]
          },
          "metadata": {},
          "execution_count": 17
        }
      ]
    },
    {
      "cell_type": "code",
      "source": [
        "print(43 > 55)"
      ],
      "metadata": {
        "colab": {
          "base_uri": "https://localhost:8080/"
        },
        "id": "C93TArHScLrM",
        "outputId": "41c76ded-4daa-41c9-b0c5-d36c1dfd13dd"
      },
      "execution_count": null,
      "outputs": [
        {
          "output_type": "stream",
          "name": "stdout",
          "text": [
            "False\n"
          ]
        }
      ]
    },
    {
      "cell_type": "code",
      "source": [
        "len(\"Peter\")"
      ],
      "metadata": {
        "colab": {
          "base_uri": "https://localhost:8080/"
        },
        "id": "3eC3WiladMHs",
        "outputId": "6381b6c0-6c6e-4ba4-deb2-b652bf7ea708"
      },
      "execution_count": null,
      "outputs": [
        {
          "output_type": "execute_result",
          "data": {
            "text/plain": [
              "5"
            ]
          },
          "metadata": {},
          "execution_count": 20
        }
      ]
    },
    {
      "cell_type": "code",
      "source": [
        "print(len(\"eMobilis\") > len(\"Technology\"))"
      ],
      "metadata": {
        "colab": {
          "base_uri": "https://localhost:8080/"
        },
        "id": "1CZYoAtAc1CK",
        "outputId": "ce022370-4b73-44a3-90a8-0a746ea829c3"
      },
      "execution_count": null,
      "outputs": [
        {
          "output_type": "execute_result",
          "data": {
            "text/plain": [
              "False"
            ]
          },
          "metadata": {},
          "execution_count": 21
        }
      ]
    },
    {
      "cell_type": "code",
      "source": [
        "print(500 < 2000)"
      ],
      "metadata": {
        "colab": {
          "base_uri": "https://localhost:8080/"
        },
        "id": "fJkkRHJkdJO-",
        "outputId": "fb4266f0-8fd5-4fca-c226-1713a4d41722"
      },
      "execution_count": null,
      "outputs": [
        {
          "output_type": "stream",
          "name": "stdout",
          "text": [
            "True\n"
          ]
        }
      ]
    },
    {
      "cell_type": "code",
      "source": [
        "print(49 >= 49)"
      ],
      "metadata": {
        "colab": {
          "base_uri": "https://localhost:8080/"
        },
        "id": "D_1n65HAd3DW",
        "outputId": "dcd0c251-a55b-48f6-86b6-12a76e64a3b9"
      },
      "execution_count": null,
      "outputs": [
        {
          "output_type": "stream",
          "name": "stdout",
          "text": [
            "True\n"
          ]
        }
      ]
    },
    {
      "cell_type": "markdown",
      "source": [
        "Write a python script that takes two inputs\n",
        "\n",
        "- Mary's salary\n",
        "- John's salary\n",
        "\n",
        "The script is supposed to return whether Mary gets a higher salary than John - Boolean"
      ],
      "metadata": {
        "id": "wPuRNLPreHWV"
      }
    },
    {
      "cell_type": "code",
      "source": [
        "mary_sal = int(input(\"How much does Mary earn ? : \"))\n",
        "john_sal = int(input(\"How much does John earn ? : \"))\n",
        "\n",
        "mary_higher_john = mary_sal > john_sal\n",
        "\n",
        "print(f\"It is {mary_higher_john} that Mary earns more than John.\")"
      ],
      "metadata": {
        "colab": {
          "base_uri": "https://localhost:8080/"
        },
        "id": "yzkuDnnmd9Lv",
        "outputId": "37df839a-3c0b-404e-a184-fc8dbf1ac645"
      },
      "execution_count": null,
      "outputs": [
        {
          "output_type": "stream",
          "name": "stdout",
          "text": [
            "How much does Mary earn ? : 200000\n",
            "How much does John earn ? : 150000\n",
            "It is True that Mary earns more than John.\n"
          ]
        }
      ]
    },
    {
      "cell_type": "markdown",
      "source": [
        "Conditional Statements - if statements - check for conditions\n",
        "\n",
        "Syntax:"
      ],
      "metadata": {
        "id": "_Cd05GaiiTRu"
      }
    },
    {
      "cell_type": "code",
      "source": [
        "# if condition:\n",
        "#   code to be run if the condition is satisfied\n",
        "# else:\n",
        "#   code to be run if the condition is not satisfied\n",
        "\n",
        "if 10 > 5:\n",
        "  print(\"Ten is greater than five\")\n",
        "else:\n",
        "  print(\"Ten is not greater than five\")\n"
      ],
      "metadata": {
        "colab": {
          "base_uri": "https://localhost:8080/"
        },
        "id": "IQrVMSi2iDHV",
        "outputId": "b3e4efef-1fc0-48eb-f4d4-05ab82dbca10"
      },
      "execution_count": null,
      "outputs": [
        {
          "output_type": "stream",
          "name": "stdout",
          "text": [
            "Ten is greater than five\n"
          ]
        }
      ]
    },
    {
      "cell_type": "markdown",
      "source": [
        "Example output:\n",
        "\n",
        "Mary earns more than John by 30000\n",
        "\n",
        "John earns more than Mary by 50000\n",
        "\n",
        "Return the difference in USD"
      ],
      "metadata": {
        "id": "quzGBaeqkw3z"
      }
    },
    {
      "cell_type": "code",
      "source": [
        "mary_sal = int(input(\"How much does Mary earn in Kenyan Shillings ? : \"))\n",
        "john_sal = int(input(\"How much does John earn in Kenyan Shillings? : \"))\n",
        "\n",
        "mary_higher_john = mary_sal > john_sal\n",
        "\n",
        "if mary_higher_john:\n",
        "  diff = (mary_sal - john_sal) / 129\n",
        "  print(f\"Mary earns more than John by {diff} USD\")\n",
        "else:\n",
        "  diff = (john_sal - mary_sal) / 129\n",
        "  print(f\"John earns more than Mary by {diff} USD\")"
      ],
      "metadata": {
        "colab": {
          "base_uri": "https://localhost:8080/"
        },
        "id": "r10clctoitm_",
        "outputId": "27cb5924-54c5-4e11-ae18-73128d289ccb"
      },
      "execution_count": null,
      "outputs": [
        {
          "output_type": "stream",
          "name": "stdout",
          "text": [
            "How much does Mary earn ? : 250000\n",
            "How much does John earn ? : 400000\n",
            "John earns more than Mary by 150000\n"
          ]
        }
      ]
    },
    {
      "cell_type": "code",
      "source": [
        "# if condition1:\n",
        "#   code to be run if the condition1 is satisfied\n",
        "# elif condition2:\n",
        "#   code to be run if the condition2 is satisfied\n",
        "# elif condition3:\n",
        "#   code to be run if the condition3 is satisfied\n",
        "# else:\n",
        "#   code to be run if all the conditions are not satisfied\n",
        "\n",
        "num1 = 50\n",
        "num2 = 100\n",
        "\n",
        "if num1 == num2:\n",
        "  print(f\"{num1} is equal to {num2}\")\n",
        "elif num1 > num2:\n",
        "  print(f\"{num1} is greater than {num2}\")\n",
        "else:\n",
        "  print(f\"{num1} is less than {num2}\")"
      ],
      "metadata": {
        "colab": {
          "base_uri": "https://localhost:8080/"
        },
        "id": "LNLOx32ckfH7",
        "outputId": "b90f1752-503a-43a5-e7c0-5aa07469f2a5"
      },
      "execution_count": null,
      "outputs": [
        {
          "output_type": "stream",
          "name": "stdout",
          "text": [
            "50 is less than 100\n"
          ]
        }
      ]
    },
    {
      "cell_type": "markdown",
      "source": [
        "Write a python script that does the following:\n",
        "\n",
        "1. Takes two inputs from the user - name, year of birth\n",
        "2. Calculate their age.\n",
        "\n",
        "3. Use conditional statements to categorize them as one of these: infant(0-1), toddler(2-4), child(5-12), teenager(13-19), youth(20-35), senior(36-55), elderly(over 55)\n",
        "\n",
        "Return the result eg John Doe is a 32-year-old youth."
      ],
      "metadata": {
        "id": "pPMpZCIHymif"
      }
    },
    {
      "cell_type": "code",
      "source": [
        "name = input(\"Enter your name here : \")\n",
        "year_of_birth = int(input(\"Enter the year you were born : \"))\n",
        "\n",
        "age = 2025 - year_of_birth\n",
        "\n",
        "if age >= 0:\n",
        "  if age <= 1:\n",
        "    print(f\"{name} is a {age}-year-old infant\")\n",
        "  elif age <= 4:\n",
        "    print(f\"{name} is a {age}-year-old toddler\")\n",
        "  elif age <= 12:\n",
        "    print(f\"{name} is a {age}-year-old child\")\n",
        "  elif age <= 19:\n",
        "    print(f\"{name} is a {age}-year-old teenager\")\n",
        "  elif age <= 35:\n",
        "    print(f\"{name} is a {age}-year-old youth\")\n",
        "  elif age <= 55:\n",
        "    print(f\"{name} is a {age}-year-old senior\")\n",
        "  else:\n",
        "    print(f\"{name} is a {age}-year-old elderly person\")\n",
        "else:\n",
        "  print(f\"You have entered an invalid year : {year_of_birth}\")\n"
      ],
      "metadata": {
        "colab": {
          "base_uri": "https://localhost:8080/"
        },
        "id": "ml3E6gBFw73G",
        "outputId": "d41fa4de-d530-4c86-96f4-3981567a993f"
      },
      "execution_count": null,
      "outputs": [
        {
          "output_type": "stream",
          "name": "stdout",
          "text": [
            "Enter your name here : Peter\n",
            "Enter the year you were born : 2030\n",
            "You have entered an invalid year : 2030\n"
          ]
        }
      ]
    },
    {
      "cell_type": "markdown",
      "source": [
        "Write a python script that takes 2 inputs - name, year of birth\n",
        "\n",
        "Use conditional statements to categrize them into generations - gen alpha, gen z, millenials, baby boomers"
      ],
      "metadata": {
        "id": "wmLl54bJ6Odn"
      }
    },
    {
      "cell_type": "code",
      "source": [
        "name = input(\"Enter your name here : \").upper()\n",
        "gender = input(\"Enter your gender here : \")\n",
        "y_o_b = int(input(\"Enter your year of birth : \"))\n",
        "\n",
        "age = 2025 - y_o_b\n",
        "\n",
        "if age <= 12:\n",
        "  generation = \"Gen Alpha\"\n",
        "elif age <= 29:\n",
        "  generation = \"Gen Z\"\n",
        "elif age <= 45:\n",
        "  generation = \"Millenial\"\n",
        "elif age <= 65:\n",
        "  generation = \"Gen X\"\n",
        "elif age <= 80:\n",
        "  generation = \"Baby Boomer\"\n",
        "else:\n",
        "  generation = \"Greatest Generation\"\n",
        "\n",
        "print(f\"{name} is a {age}-year-old {generation} {gender}\")"
      ],
      "metadata": {
        "id": "rx5CLZpS5owj",
        "colab": {
          "base_uri": "https://localhost:8080/"
        },
        "outputId": "3bedaf48-4465-4691-86dd-53203162067a"
      },
      "execution_count": null,
      "outputs": [
        {
          "output_type": "stream",
          "name": "stdout",
          "text": [
            "Enter your name here : John DOe\n",
            "Enter your gender here : Male\n",
            "Enter your year of birth : 1987\n",
            "JOHN DOE is a 38-year-old Millenial Male\n"
          ]
        }
      ]
    },
    {
      "cell_type": "code",
      "source": [
        "number = 200\n",
        "\n",
        "if number % 2 == 0:\n",
        "  print(f\"{number} is divisible by 2\")\n",
        "else:\n",
        "  print(f\"{number} is not divisible by 2\")"
      ],
      "metadata": {
        "colab": {
          "base_uri": "https://localhost:8080/"
        },
        "id": "YHZoUQCVj3TK",
        "outputId": "b1f77026-63b9-4e6d-fe11-9dbeeb37aaa0"
      },
      "execution_count": null,
      "outputs": [
        {
          "output_type": "stream",
          "name": "stdout",
          "text": [
            "200 is divisible by 2\n"
          ]
        }
      ]
    },
    {
      "cell_type": "markdown",
      "source": [
        "Write a python script that does the following:\n",
        "\n",
        "1. Takes two number inputs eg divisiblity of 5\n",
        "\n",
        "1st input is 5\n",
        "\n",
        "2nd input is the number we want to check if it is divisible by 5\n",
        "\n",
        "return the result\n",
        "\n",
        "2. Calculator\n",
        "\n",
        "Takes two number inputs, an an opertor input\n",
        "\n",
        "eg 25 as first input\n",
        "\n",
        "10 as the second input\n",
        "\n",
        "+ as the operator input\n",
        "\n",
        "Display the result as follows: 25 + 10 is equal to 35"
      ],
      "metadata": {
        "id": "fgjc7f31llQS"
      }
    },
    {
      "cell_type": "markdown",
      "source": [
        "Write a python script that:\n",
        "1. Takes input from the user - year eg 2012\n",
        "\n",
        "2. Checks whether that year is/was a leap year\n",
        "- check if it is divisible by 4\n",
        "\n",
        " it is a leap year, unless it is also divisible by 100\n",
        "\n",
        " but if it is both divisible by 100 and 400 - it is a leap year\n",
        "\n",
        "Return the result to the user eg. 2012 was a leap year"
      ],
      "metadata": {
        "id": "lhCeUrK1x6gB"
      }
    },
    {
      "cell_type": "code",
      "source": [
        "year = int(input(\"Enter the year here : \"))\n",
        "\n",
        "if year % 4 == 0:\n",
        "  if year % 100 == 0:\n",
        "    if year % 400 == 0:\n",
        "      print(f\"{year} is a Leap Year\")\n",
        "    else:\n",
        "      print(f\"{year} is NOT a Leap Year\")\n",
        "  else:\n",
        "    print(f\"{year} is a Leap Year\")\n",
        "\n",
        "else:\n",
        "  print(f\"{year} is NOT a Leap year\")"
      ],
      "metadata": {
        "colab": {
          "base_uri": "https://localhost:8080/"
        },
        "id": "cTjq3m1clVQF",
        "outputId": "31583d5f-12b4-4559-a182-8584770aea76"
      },
      "execution_count": null,
      "outputs": [
        {
          "output_type": "stream",
          "name": "stdout",
          "text": [
            "Enter the year here : 1900\n",
            "1900 is NOT a Leap Year\n"
          ]
        }
      ]
    },
    {
      "cell_type": "markdown",
      "source": [
        "Write a python script that does the following:\n",
        "\n",
        "1. Takes three inputs - angle1, angle2, angle3\n",
        "- Assertain that the 3 angles add up to 180\n",
        "2. Categorizes them into one of the following: equilateral, isosceles, scalene or right angled triangle\n",
        "3. Returns the result to the user"
      ],
      "metadata": {
        "id": "GVvmcn9j6Odi"
      }
    },
    {
      "cell_type": "markdown",
      "source": [
        "and - return True if both conditions are satisfied\n",
        "\n",
        "or - returns True if either of the conditions is satisfied"
      ],
      "metadata": {
        "id": "kFnxcq46C3S5"
      }
    },
    {
      "cell_type": "code",
      "source": [
        "angle1 = int(input(\"Enter the first angle here :\"))\n",
        "angle2 = int(input(\"Enter the second angle here :\"))\n",
        "angle3 = int(input(\"Enter the third angle here :\"))\n",
        "\n",
        "if angle1 + angle2 + angle3 == 180:\n",
        "  if angle1 == angle2 == angle3:\n",
        "    print(\"Equilateral triangle\")\n",
        "  elif angle1 == angle2 or angle1 == angle3 or angle2 == angle3:\n",
        "    if angle1 == 90 or angle2 == 90 or angle3 == 90:\n",
        "      print(\"Isosceles and Right angled triangle\")\n",
        "    else:\n",
        "      print(\"Isosceles triangle\")\n",
        "  elif angle1 == 90 or angle2 == 90 or angle3 == 90:\n",
        "    print(\"Right angled triangle\")\n",
        "  else:\n",
        "    print(\"Scalene triangle\")\n",
        "else:\n",
        "  print(\"Not a valid triangle\")"
      ],
      "metadata": {
        "colab": {
          "base_uri": "https://localhost:8080/"
        },
        "id": "5qHK8ce_4znk",
        "outputId": "3811cc3f-87fd-48a1-ae67-da72cc79f91d"
      },
      "execution_count": null,
      "outputs": [
        {
          "output_type": "stream",
          "name": "stdout",
          "text": [
            "Enter the first angle here :120\n",
            "Enter the second angle here :120\n",
            "Enter the third angle here :50\n",
            "Not a valid triangle\n"
          ]
        }
      ]
    },
    {
      "cell_type": "markdown",
      "source": [
        "Sequential Datatypes - hold more than a single value\n",
        "\n",
        "eg. List, Tuple, Set"
      ],
      "metadata": {
        "id": "A_sc4YQ99_7o"
      }
    },
    {
      "cell_type": "markdown",
      "source": [
        "List\n",
        "- store multiple values within the same variable\n",
        "- created using [] Square Brackets\n",
        "- Can store different datatypes - strings, integers, float, Booleans, other sequential datatypes\n",
        "- values within a list are called elements\n"
      ],
      "metadata": {
        "id": "yIAg21Cy-UBj"
      }
    },
    {
      "cell_type": "code",
      "source": [
        "fruits = [\"Apple\", \"Watermelon\", \"Mango\", \"Kiwi\", \"Avocado\"]\n",
        "print(len(fruits))\n",
        "print(type(fruits))"
      ],
      "metadata": {
        "id": "l0g0yCOdDYAs",
        "colab": {
          "base_uri": "https://localhost:8080/"
        },
        "outputId": "a915a16e-0676-429f-f9b9-5e446a0537e3"
      },
      "execution_count": null,
      "outputs": [
        {
          "output_type": "stream",
          "name": "stdout",
          "text": [
            "5\n",
            "<class 'list'>\n"
          ]
        }
      ]
    },
    {
      "cell_type": "code",
      "source": [
        "print(len(\"Python Programming\"))"
      ],
      "metadata": {
        "colab": {
          "base_uri": "https://localhost:8080/"
        },
        "id": "MSXDT6op_GJI",
        "outputId": "14c6c8f9-49b5-4952-c892-15af5ddb87c6"
      },
      "execution_count": null,
      "outputs": [
        {
          "output_type": "stream",
          "name": "stdout",
          "text": [
            "19\n"
          ]
        }
      ]
    },
    {
      "cell_type": "code",
      "source": [
        "ages = [21, 30, 36, 42, 19]\n",
        "print(len(ages))"
      ],
      "metadata": {
        "colab": {
          "base_uri": "https://localhost:8080/"
        },
        "id": "TKcwRUnc_0_z",
        "outputId": "9118a139-ee50-4469-920b-b48ee4252e91"
      },
      "execution_count": null,
      "outputs": [
        {
          "output_type": "stream",
          "name": "stdout",
          "text": [
            "5\n"
          ]
        }
      ]
    },
    {
      "cell_type": "markdown",
      "source": [
        "Lists are ordered - we can access an element within a list using its index\n",
        "\n",
        "Indexing in programming always start with 0\n",
        "\n",
        "The last index in a list is always -1 index"
      ],
      "metadata": {
        "id": "vi73I3K-ARtj"
      }
    },
    {
      "cell_type": "code",
      "source": [
        "car_brands = [\"Range Rover\", \"Audi\", \"Porsche\", \"BMW\", \"Lamboghini\", \"Toyota\", \"Mercedes\", \"Ford\"]\n",
        "\n",
        "print(car_brands[4])\n",
        "\n",
        "print(car_brands[-1])"
      ],
      "metadata": {
        "colab": {
          "base_uri": "https://localhost:8080/"
        },
        "id": "k6zG0UKFAJ-V",
        "outputId": "c9df50fe-d9b1-411f-afd2-3f89e9f8483e"
      },
      "execution_count": null,
      "outputs": [
        {
          "output_type": "stream",
          "name": "stdout",
          "text": [
            "Lamboghini\n",
            "Ford\n"
          ]
        }
      ]
    },
    {
      "cell_type": "code",
      "source": [
        "electronics = [\"Coffee Maker\", \"Toaster\", \"Washing Machine\", \"Microwave\"]\n",
        "\n",
        "print(electronics[-1])"
      ],
      "metadata": {
        "colab": {
          "base_uri": "https://localhost:8080/"
        },
        "id": "eKT-Sq51BSC3",
        "outputId": "13ea0a61-52df-4330-92ea-2acc58296224"
      },
      "execution_count": null,
      "outputs": [
        {
          "output_type": "stream",
          "name": "stdout",
          "text": [
            "Microwave\n"
          ]
        }
      ]
    },
    {
      "cell_type": "code",
      "source": [
        "electronics[0] = \"Blender\"\n",
        "\n",
        "print(electronics)"
      ],
      "metadata": {
        "colab": {
          "base_uri": "https://localhost:8080/"
        },
        "id": "m5SOFVqnCc3h",
        "outputId": "9134adab-eead-49ef-9251-fd90aad25d6a"
      },
      "execution_count": null,
      "outputs": [
        {
          "output_type": "stream",
          "name": "stdout",
          "text": [
            "['Blender', 'Toaster', 'Washing Machine', 'Microwave']\n"
          ]
        }
      ]
    },
    {
      "cell_type": "markdown",
      "source": [
        "List Methods"
      ],
      "metadata": {
        "id": "IIkAdX-zEVao"
      }
    },
    {
      "cell_type": "markdown",
      "source": [
        ".append() - adds an element to the end of a list"
      ],
      "metadata": {
        "id": "Lv329_TnElVt"
      }
    },
    {
      "cell_type": "code",
      "source": [
        "fruits.append(\"Banana\")\n",
        "\n",
        "print(fruits)"
      ],
      "metadata": {
        "colab": {
          "base_uri": "https://localhost:8080/"
        },
        "id": "5jmJMgM7DJva",
        "outputId": "1c105ebb-75ec-420f-90f7-b3580a805a74"
      },
      "execution_count": null,
      "outputs": [
        {
          "output_type": "stream",
          "name": "stdout",
          "text": [
            "['Apple', 'Watermelon', 'Mango', 'Kiwi', 'Avocado', 'Pineapple', 'Coconut', 'Banana']\n"
          ]
        }
      ]
    },
    {
      "cell_type": "code",
      "source": [
        "print(sorted(fruits))"
      ],
      "metadata": {
        "colab": {
          "base_uri": "https://localhost:8080/"
        },
        "id": "-egAaO8lEt8U",
        "outputId": "44f31293-0bec-48a3-9038-bf04530677cd"
      },
      "execution_count": null,
      "outputs": [
        {
          "output_type": "stream",
          "name": "stdout",
          "text": [
            "['Apple', 'Avocado', 'Banana', 'Coconut', 'Kiwi', 'Mango', 'Pineapple', 'Watermelon']\n"
          ]
        }
      ]
    },
    {
      "cell_type": "code",
      "source": [
        "str_numbers = [\"5\", \"8\", \"1\", \"6\", \"3\", \"12\", \"25\", \"150\"]\n",
        "\n",
        "print(sorted(str_numbers))"
      ],
      "metadata": {
        "colab": {
          "base_uri": "https://localhost:8080/"
        },
        "id": "FNSdLXwgG1-F",
        "outputId": "6b615765-caa9-4805-ea6c-df701f6a654c"
      },
      "execution_count": null,
      "outputs": [
        {
          "output_type": "stream",
          "name": "stdout",
          "text": [
            "['1', '12', '150', '25', '3', '5', '6', '8']\n"
          ]
        }
      ]
    },
    {
      "cell_type": "markdown",
      "source": [
        ".insert() - insert an element to a given position in a list"
      ],
      "metadata": {
        "id": "dKOdMP6tJbN9"
      }
    },
    {
      "cell_type": "code",
      "source": [
        "colours = [\"Black\", \"Red\", \"Green\", \"White\"]\n",
        "\n",
        "colours.insert(2, \"Purple\")\n",
        "\n",
        "print(colours)"
      ],
      "metadata": {
        "colab": {
          "base_uri": "https://localhost:8080/"
        },
        "id": "sdi2_8qaIq5c",
        "outputId": "dcf2ec89-42a5-4e3f-9a5e-8af2488d034d"
      },
      "execution_count": null,
      "outputs": [
        {
          "output_type": "stream",
          "name": "stdout",
          "text": [
            "['Black', 'Red', 'Purple', 'Green', 'White']\n"
          ]
        }
      ]
    },
    {
      "cell_type": "markdown",
      "source": [
        ".pop() - remove the last element in a list"
      ],
      "metadata": {
        "id": "1n2B4b_XKRlT"
      }
    },
    {
      "cell_type": "code",
      "source": [
        "colours.pop()\n",
        "\n",
        "print(colours)"
      ],
      "metadata": {
        "colab": {
          "base_uri": "https://localhost:8080/"
        },
        "id": "TgXzzmUbJ1xw",
        "outputId": "f33a990d-067c-421e-90dd-a0e7ba9f2ed8"
      },
      "execution_count": null,
      "outputs": [
        {
          "output_type": "stream",
          "name": "stdout",
          "text": [
            "['Black', 'Red', 'Purple', 'Green']\n"
          ]
        }
      ]
    },
    {
      "cell_type": "markdown",
      "source": [
        ".remove() - remove a specified element"
      ],
      "metadata": {
        "id": "cNRKAKfPK1ul"
      }
    },
    {
      "cell_type": "code",
      "source": [
        "print(colours)\n",
        "\n",
        "colours.remove(\"Red\")\n",
        "\n",
        "print(colours)"
      ],
      "metadata": {
        "colab": {
          "base_uri": "https://localhost:8080/"
        },
        "id": "US-V0biFKaUk",
        "outputId": "f0d73e99-6a62-431c-e7ba-644a5a06c62b"
      },
      "execution_count": null,
      "outputs": [
        {
          "output_type": "stream",
          "name": "stdout",
          "text": [
            "['Black', 'Red', 'Purple', 'Green']\n",
            "['Black', 'Purple', 'Green']\n"
          ]
        }
      ]
    },
    {
      "cell_type": "markdown",
      "source": [
        "Create a python script that does the following:\n",
        "\n",
        "1. Hard code 10 years of birth for different people\n",
        "2. Add 2003 to the end of the list\n",
        "3. Add 1987 to be the third value within the list\n",
        "4. Sort the years of birth\n",
        "5. Display the resultant list"
      ],
      "metadata": {
        "id": "cZPM31xgL-Ua"
      }
    },
    {
      "cell_type": "code",
      "source": [
        "years_of_birth = [1990, 1995, 2005, 2000, 1970, 1965, 1980, 1985, 1995, 2000]\n",
        "\n",
        "years_of_birth.append(2003)\n",
        "\n",
        "years_of_birth.insert(2, 1987)\n",
        "\n",
        "print(sorted(years_of_birth))"
      ],
      "metadata": {
        "colab": {
          "base_uri": "https://localhost:8080/"
        },
        "id": "bFcVk3PhK96S",
        "outputId": "1a3a7cb2-34e4-4a02-a45b-c307e27d2e84"
      },
      "execution_count": null,
      "outputs": [
        {
          "output_type": "stream",
          "name": "stdout",
          "text": [
            "[1965, 1970, 1980, 1985, 1987, 1990, 1995, 1995, 2000, 2000, 2003, 2005]\n"
          ]
        }
      ]
    },
    {
      "cell_type": "markdown",
      "source": [
        "Joining multiple lists"
      ],
      "metadata": {
        "id": "i4XtLZGuRVEi"
      }
    },
    {
      "cell_type": "code",
      "source": [
        "london_clubs = [\"Chelsea\", \"Tottenham\", \"Crystal Palace\", \"Arsenal\", \"Fulham\"]\n",
        "manchester_clubs = [\"Manchester City\", \"Manchester United\"]\n",
        "merseyside_clubs = [\"Liverpool\", \"Everton\"]\n",
        "\n",
        "premier_league_teams = london_clubs + manchester_clubs + merseyside_clubs\n",
        "\n",
        "print(premier_league_teams)"
      ],
      "metadata": {
        "colab": {
          "base_uri": "https://localhost:8080/"
        },
        "id": "_yQL9peqM6Ub",
        "outputId": "b2606d99-e96f-4edb-a6a7-d461d5c4ab1c"
      },
      "execution_count": null,
      "outputs": [
        {
          "output_type": "stream",
          "name": "stdout",
          "text": [
            "['Chelsea', 'Tottenham', 'Crystal Palace', 'Arsenal', 'Fulham', 'Manchester City', 'Manchester United', 'Liverpool', 'Everton']\n"
          ]
        }
      ]
    },
    {
      "cell_type": "markdown",
      "source": [
        "Write a python script that does the following:\n",
        "\n",
        "1. Hard codes 3 values of the following variables:\n",
        "- East African countries\n",
        "- West African countries\n",
        "- South African countries\n",
        "- North African countries\n",
        "- Central African countries\n",
        "2. Joins all of the above to a single variable - african_countries\n",
        "\n",
        "- Get the total number of elements in african_countries\n",
        "- Isolate the country at index 6 and convert it into uppercase and get the total number of characters it has\n"
      ],
      "metadata": {
        "id": "NCQmFxi7RyS-"
      }
    },
    {
      "cell_type": "code",
      "source": [
        "east_african_countries = [\"Kenya\", \"Tanzania\", \"Uganda\"]\n",
        "west_african_countries = [\"Nigeria\", \"Ivory Coast\", \"Mali\"]\n",
        "south_african_countries = [\"South Africa\", \"Swaziland\", \"Lesotho\"]\n",
        "north_african_countries = [\"Tunisia\", \"Morocco\", \"Libya\"]\n",
        "central_african_countries = [\"DRC\", \"Congo\", \"Chad\"]\n",
        "\n",
        "african_countries = east_african_countries + west_african_countries + south_african_countries + north_african_countries + central_african_countries\n",
        "\n",
        "print(len(african_countries))\n",
        "print(african_countries)\n",
        "\n",
        "print(african_countries[6].upper())\n",
        "print(len(african_countries[6]))"
      ],
      "metadata": {
        "colab": {
          "base_uri": "https://localhost:8080/"
        },
        "id": "TP-srivWReh1",
        "outputId": "2bda5aca-0cd2-4d6d-bb55-010594d625e3"
      },
      "execution_count": null,
      "outputs": [
        {
          "output_type": "stream",
          "name": "stdout",
          "text": [
            "15\n",
            "['Kenya', 'Tanzania', 'Uganda', 'Nigeria', 'Ivory Coast', 'Mali', 'South Africa', 'Swaziland', 'Lesotho', 'Tunisia', 'Morocco', 'Libya', 'DRC', 'Congo', 'Chad']\n",
            "SOUTH AFRICA\n",
            "12\n"
          ]
        }
      ]
    },
    {
      "cell_type": "markdown",
      "source": [
        "Slicing of Lists\n",
        "- Syntax : list_name[start:stop:step]\n",
        "- the start index is inclusive, default start value is 0\n",
        "- the stop index is exclusive, default stop value is the last element\n",
        "- steps - the number of steps we take to the next element"
      ],
      "metadata": {
        "id": "h4q_OgceZfZD"
      }
    },
    {
      "cell_type": "code",
      "source": [
        "print(african_countries)\n",
        "\n",
        "print(african_countries[2:8:2])"
      ],
      "metadata": {
        "colab": {
          "base_uri": "https://localhost:8080/"
        },
        "id": "-KL_tF7rS17v",
        "outputId": "e1815bc5-6291-473f-b1b8-9372f0a30257"
      },
      "execution_count": null,
      "outputs": [
        {
          "output_type": "stream",
          "name": "stdout",
          "text": [
            "['Kenya', 'Tanzania', 'Uganda', 'Nigeria', 'Ivory Coast', 'Mali', 'South Africa', 'Swaziland', 'Lesotho', 'Tunisia', 'Morocco', 'Libya', 'DRC', 'Congo', 'Chad']\n",
            "['Uganda', 'Ivory Coast', 'South Africa']\n"
          ]
        }
      ]
    },
    {
      "cell_type": "code",
      "source": [
        "schools = [\"Braeside High School\", \"Nairobi School\", \"Alliance High School\", 'Moi High School Kabarak', \"St. Andrew's Turi\", \"Kianda School\", \"Emerald International\"]\n",
        "# first slice - Alliance High School to Moi ..\n",
        "print(schools[2:4])\n",
        "# second slice - start to St.Andrew's Turi\n",
        "print(schools[:5])\n",
        "# third slice - Kianda School to the end\n",
        "print(schools[5:])"
      ],
      "metadata": {
        "colab": {
          "base_uri": "https://localhost:8080/"
        },
        "id": "qE1-Wd9daBW8",
        "outputId": "df7b1b1d-b37d-4413-a152-0501210fce67"
      },
      "execution_count": null,
      "outputs": [
        {
          "output_type": "stream",
          "name": "stdout",
          "text": [
            "['Alliance High School', 'Moi High School Kabarak']\n",
            "['Braeside High School', 'Nairobi School', 'Alliance High School', 'Moi High School Kabarak', \"St. Andrew's Turi\"]\n",
            "['Kianda School', 'Emerald International']\n"
          ]
        }
      ]
    },
    {
      "cell_type": "markdown",
      "source": [
        "Create a python script that does the following:\n",
        "\n",
        "1. Hard codes 10 modern names.\n",
        "2. Add another name to the end.\n",
        "3. Modify the element at index 5 to 'Zayne'\n",
        "4. Capitalize the modified element using a string method - .upper()\n",
        "5. Extract all the elements from the second to the fifth element - store them - group A\n",
        "6. Extract all the elements from the eighth upto the last element - store them - group B\n",
        "7. Join group a to group b and store them in a variable extracted_names\n"
      ],
      "metadata": {
        "id": "Su02AeUQelyD"
      }
    },
    {
      "cell_type": "code",
      "source": [
        "modern_names = [\"Lola\", \"Savannah\", \"Antoine\", \"Tatenda\", \"Tyler\", \"Cayden\", \"Esmeralda\", \"Kim-Jon-Un\", \"Levi\", \"Natalia\"]\n",
        "modern_names.append(\"Quincy\")\n",
        "\n",
        "modern_names[5] = \"Zayne\".upper()\n",
        "\n",
        "group_a = modern_names[1:5]\n",
        "group_b = modern_names[7:]\n",
        "\n",
        "extracted_names = group_a + group_b\n",
        "\n",
        "print(extracted_names)"
      ],
      "metadata": {
        "id": "ygsdCmPydJ6K",
        "colab": {
          "base_uri": "https://localhost:8080/"
        },
        "outputId": "d21104f4-90ed-4405-8e49-aa1e4c77dafa"
      },
      "execution_count": null,
      "outputs": [
        {
          "output_type": "stream",
          "name": "stdout",
          "text": [
            "['Savannah', 'Antoine', 'Tatenda', 'Tyler', 'Kim-Jon-Un', 'Levi', 'Natalia', 'Quincy']\n"
          ]
        }
      ]
    },
    {
      "cell_type": "markdown",
      "source": [
        "Unpacking of a list"
      ],
      "metadata": {
        "id": "_ngJW9SCOZ8t"
      }
    },
    {
      "cell_type": "code",
      "source": [
        "requirements = [\"3 years\", \"Python Programming\", \"Github\", \"Public Speaking\"]\n",
        "\n",
        "# years_of_experience = requirements[0]\n",
        "# programming_language = requirements[1]\n",
        "# version_control = requirements[2]\n",
        "# soft_skills = requirements[3]\n",
        "\n",
        "years_of_experience, programming_language, version_control, soft_skills = requirements\n",
        "\n",
        "print(f\"The candidate has {years_of_experience} of experience in {programming_language}. They are comfortable working with {version_control} for version control and they have soft skills in {soft_skills}\")"
      ],
      "metadata": {
        "colab": {
          "base_uri": "https://localhost:8080/"
        },
        "id": "WxYs1gNaMExK",
        "outputId": "265109bc-2c49-4b58-ea93-73e9bf67a874"
      },
      "execution_count": null,
      "outputs": [
        {
          "output_type": "stream",
          "name": "stdout",
          "text": [
            "The candidate has 3 years of experience in Python Programming. They are comfortable working with Github for version control and they have soft skills in Public Speaking\n"
          ]
        }
      ]
    },
    {
      "cell_type": "markdown",
      "source": [
        "Tuples they store multiple values within the same variable\n",
        "\n",
        "- Ordered - indexed\n",
        "- Unchangeable/immutable - once we define the tuple, the values are 'cast in stone'\n",
        "- Defined using ()\n"
      ],
      "metadata": {
        "id": "UXsW-L2dQf83"
      }
    },
    {
      "cell_type": "code",
      "source": [
        "# list_name = [item1, item2, item3]\n",
        "# tuple_name = (item1, item2, item3)\n",
        "\n",
        "frontier_models = (\"OpenAI\", \"Anthropic - Claude\", \"Google Gemini\", \"DeepSeek\", \"Perplexity\", \"Grok\")\n",
        "opensource_models = (\"Llama\", \"Qwen\")\n",
        "\n",
        "print(frontier_models[-1])"
      ],
      "metadata": {
        "colab": {
          "base_uri": "https://localhost:8080/"
        },
        "id": "W-xIFesPPnVf",
        "outputId": "08135be2-a8bf-4476-d7d9-76ab8b603fac"
      },
      "execution_count": null,
      "outputs": [
        {
          "output_type": "stream",
          "name": "stdout",
          "text": [
            "Grok\n"
          ]
        }
      ]
    },
    {
      "cell_type": "code",
      "source": [
        "opensource_models = list(opensource_models)\n",
        "opensource_models.append(\"Test\")\n",
        "opensource_models = tuple(opensource_models)\n",
        "print(opensource_models)"
      ],
      "metadata": {
        "colab": {
          "base_uri": "https://localhost:8080/"
        },
        "id": "_NiVIfWYV6aR",
        "outputId": "1da47996-d521-4545-8a60-7a6d284563b9"
      },
      "execution_count": null,
      "outputs": [
        {
          "output_type": "stream",
          "name": "stdout",
          "text": [
            "('Llama', 'Qwen', 'Test')\n"
          ]
        }
      ]
    },
    {
      "cell_type": "markdown",
      "source": [
        "Slicing of a tuple"
      ],
      "metadata": {
        "id": "VjobR62GXLvd"
      }
    },
    {
      "cell_type": "code",
      "source": [
        "print(frontier_models)"
      ],
      "metadata": {
        "colab": {
          "base_uri": "https://localhost:8080/"
        },
        "id": "9Y3pF-jMWI65",
        "outputId": "af8164ea-1a4b-430c-b551-f4e7cce14a4a"
      },
      "execution_count": null,
      "outputs": [
        {
          "output_type": "stream",
          "name": "stdout",
          "text": [
            "('OpenAI', 'Anthropic - Claude', 'Google Gemini', 'DeepSeek', 'Perplexity', 'Grok')\n"
          ]
        }
      ]
    },
    {
      "cell_type": "markdown",
      "source": [
        "Create a python script that does the following:\n",
        "\n",
        "1. Hard code the different types of plastics into a tuple (7)\n",
        "2. Get the number of elements in that tuple using code\n",
        "3. Get the number of characters in the last element\n",
        "4. Remove the third element - work-around*\n",
        "5. Have the final sequential datatype as tuple and display the result\n"
      ],
      "metadata": {
        "id": "cG57qma4X0xe"
      }
    },
    {
      "cell_type": "code",
      "source": [
        "plastic_types = (\"PET\", \"HDPE\", \"PVC\", \"LDPE\", \"ABS\", \"PP\", \"Polythene\")\n",
        "print(f\"There are {len(plastic_types)} types of plastics in the tuple\")\n",
        "print(f\"There are {len(plastic_types[-1])} characters in the word {plastic_types[-1]}\")\n",
        "plastic_types = list(plastic_types)\n",
        "plastic_types.pop(2)\n",
        "plastic_types = tuple(plastic_types)\n",
        "print(plastic_types)"
      ],
      "metadata": {
        "colab": {
          "base_uri": "https://localhost:8080/"
        },
        "id": "qCBX4v0UXSTg",
        "outputId": "f918a782-10c1-40da-cb2f-65b958002bd7"
      },
      "execution_count": null,
      "outputs": [
        {
          "output_type": "stream",
          "name": "stdout",
          "text": [
            "There are 7 types of plastics in the tuple\n",
            "There are 9 characters in the word Polythene\n",
            "('PET', 'HDPE', 'LDPE', 'ABS', 'PP', 'Polythene')\n"
          ]
        }
      ]
    },
    {
      "cell_type": "markdown",
      "source": [
        "Safaricom Sim Toolkit"
      ],
      "metadata": {
        "id": "reg33X1sjBXc"
      }
    },
    {
      "cell_type": "markdown",
      "source": [],
      "metadata": {
        "id": "LNrkmgFCB3Ex"
      }
    },
    {
      "cell_type": "markdown",
      "source": [
        "Create functions to do the following:\n",
        "- get_promotional_message ()hard code 5 promotional message from Mpesa then randomly pick one and return it\n",
        "-get_date_time() - returns the current date and time\n",
        "- generate_the_transaction code() - year -hardcode\n",
        "\n",
        "month - dictionary map 1 - 12 to A-L\n",
        "date - dictionary - keys-dates, values being the character\n",
        "other 10 character - randomly pick them - random"
      ],
      "metadata": {
        "id": "NVo62wvBulri"
      }
    },
    {
      "cell_type": "code",
      "source": [
        "from datetime import datetime\n",
        "import pytz\n",
        "import random\n",
        "\n",
        "def get_date_time():\n",
        "  eat = pytz.timezone(\"Africa/Nairobi\")\n",
        "  eat_time = datetime.now(eat)\n",
        "  eat_string= str(eat_time)\n",
        "  time_list = eat_string.split(\" \")\n",
        "  current_time = time_list[1].split(\".\")[0]\n",
        "  current_date = time_list[0]\n",
        "  return current_date, current_time\n",
        "\n",
        "def transaction_codes(current_date):\n",
        "  year,month,day = current_date.split(\"-\")\n",
        "  year_codes = {\n",
        "      \"2025\":\"T\",\n",
        "      \"2026\":\"U\",\n",
        "      \"2027\":\"V\"}\n",
        "  year_code = year_codes.get(year)\n",
        "\n",
        "  monthly_codes = {\n",
        "      \"01\": \"A\",\n",
        "      \"02\": \"B\",\n",
        "      \"03\": \"C\",\n",
        "      \"04\": \"D\",\n",
        "      \"05\":\"E\",\n",
        "      \"06\": \"F\",\n",
        "      \"07\": \"G\",\n",
        "      \"08\": \"H\",\n",
        "      \"09\": \"I\",\n",
        "      \"10\": \"J\",\n",
        "      \"11\":\"K\",\n",
        "      \"12\": \"L\"\n",
        "  }\n",
        "  Monthly_code = monthly_codes.get(month)\n",
        "  Day_of_month = {\n",
        "      \"01\": \"1\",\n",
        "      \"02\": \"2\",\n",
        "      \"03\": \"3\",\n",
        "      \"04\" : \"4\",\n",
        "      \"05\" : \"5\",\n",
        "      \"06\" : \"6\",\n",
        "      \"07\": \"7\",\n",
        "      \"08\": \"8\",\n",
        "      \"09\" : \"9\",\n",
        "      \"10\" : \"A\",\n",
        "      \"11\": \"B\",\n",
        "      \"12\" : \"C\",\n",
        "      \"13\" : \"D\",\n",
        "      \"14\" : \"E\",\n",
        "      \"15\" : \"F\",\n",
        "      \"16\" : \"G\",\n",
        "      \"17\" : \"H\",\n",
        "      \"18\" : \"I\",\n",
        "      \"19\": \"J\",\n",
        "      \"20\": \"K\",\n",
        "      \"21\": \"L\",\n",
        "      \"22\": \"M\",\n",
        "      \"23\": \"N\",\n",
        "      \"24\": \"O\",\n",
        "      \"25\": \"P\",\n",
        "      \"26\": \"Q\",\n",
        "      \"27\": \"R\",\n",
        "      \"28\": \"S\",\n",
        "      \"29\": \"T\",\n",
        "      \"30\": \"U\",\n",
        "      \"31\": \"V\"\n",
        "  }\n",
        "  day_of_month = Day_of_month.get(day)\n",
        "  transaction_code =f\"{year_code}{Monthly_code}{day_of_month}\"\n",
        "\n",
        "  possible_characters = [\"A\", \"B\", \"C\",\"D\", \"E\", \"F\", \"G\", \"H\", \"I\", \"J\", \"K\", \"L\", \"M\", \"N\", \"O\", \"P\", \"Q\", \"R\", \"S\", \"T\", \"U\", \"V\", \"W\", \"X\", \"Y\", \"Z\", \"0\", \"1\", \"2\" \"3\", \"4\",\"5\",\"6\", \"7\",\"8\", \"9\"]\n",
        "  for i in range(7):\n",
        "    picked_char= random.choice(possible_characters)\n",
        "    transaction_code += picked_char\n",
        "  return transaction_code\n",
        "\n",
        "\n",
        "\n",
        "\n",
        "\n",
        "date_today, time_now = get_date_time()\n",
        "print (date_today)\n",
        "transaction_codes(date_today)\n",
        "#print(f\"Date: {date_today}, time: {time_now}\")\n"
      ],
      "metadata": {
        "colab": {
          "base_uri": "https://localhost:8080/",
          "height": 52
        },
        "id": "g9ShgOeh5qHT",
        "outputId": "bf7bf038-ec0c-4273-9b4d-431601006090"
      },
      "execution_count": null,
      "outputs": [
        {
          "output_type": "stream",
          "name": "stdout",
          "text": [
            "2025-05-26\n"
          ]
        },
        {
          "output_type": "execute_result",
          "data": {
            "text/plain": [
              "'TEQP6KVOGG'"
            ],
            "application/vnd.google.colaboratory.intrinsic+json": {
              "type": "string"
            }
          },
          "metadata": {},
          "execution_count": 6
        }
      ]
    },
    {
      "cell_type": "code",
      "source": [
        "from datetime import datetime\n",
        "import pytz\n",
        "import random\n",
        "print(\"Welcome to the Safaricom SIM Toolkit\")\n",
        "\n",
        "mpesa_balance = 300000\n",
        "daily_transaction_limit = 500000\n",
        "mpesa_pin = 1234\n",
        "airtime_balance = 100\n",
        "\n",
        "def get_date_time():\n",
        "  eat = pytz.timezone(\"Africa/Nairobi\")\n",
        "  eat_time = datetime.now(eat)\n",
        "  eat_string= str(eat_time)\n",
        "  time_list = eat_string.split(\" \")\n",
        "  current_time = time_list[1].split(\".\")[0]\n",
        "  current_date = time_list[0]\n",
        "  return current_date, current_time\n",
        "\n",
        "\n",
        "def get_promotional_message():\n",
        " promotional_messages = [\"\"\" Sign-up for Lipa Na Mpesa online https://mpesaforbusiness.co.ke\"\"\", \"\"\" Save frequent tills for quick payment on Mpesa app https://bit.ly/mpesalnk\"\"\", \"\"\"Earnest interest daily on Ziidi MMF,Dail *334#\"\"\", \"\"\"You can now access Mpesa via *334#\"\"\", \"\"\"Save frequent Paybills for quick payment on Mpesa app https://bit.ly/mpesalnk\"\"\"]\n",
        " message = random.choice(promotional_messages)\n",
        " return message\n",
        "\n",
        "\n",
        "def transaction_codes(current_date):\n",
        "  year,month,day = current_date.split(\"-\")\n",
        "  year_codes = {\n",
        "      \"2025\":\"T\",\n",
        "      \"2026\":\"U\",\n",
        "      \"2027\":\"V\"}\n",
        "  year_code = year_codes.get(year)\n",
        "\n",
        "  monthly_codes = {\n",
        "      \"01\": \"A\",\n",
        "      \"02\": \"B\",\n",
        "      \"03\": \"C\",\n",
        "      \"04\": \"D\",\n",
        "      \"05\":\"E\",\n",
        "      \"06\": \"F\",\n",
        "      \"07\": \"G\",\n",
        "      \"08\": \"H\",\n",
        "      \"09\": \"I\",\n",
        "      \"10\": \"J\",\n",
        "      \"11\":\"K\",\n",
        "      \"12\": \"L\"\n",
        "  }\n",
        "  Monthly_code = monthly_codes.get(month)\n",
        "  Day_of_month = {\n",
        "      \"01\": \"1\",\n",
        "      \"02\": \"2\",\n",
        "      \"03\": \"3\",\n",
        "      \"04\" : \"4\",\n",
        "      \"05\" : \"5\",\n",
        "      \"06\" : \"6\",\n",
        "      \"07\": \"7\",\n",
        "      \"08\": \"8\",\n",
        "      \"09\" : \"9\",\n",
        "      \"10\" : \"A\",\n",
        "      \"11\": \"B\",\n",
        "      \"12\" : \"C\",\n",
        "      \"13\" : \"D\",\n",
        "      \"14\" : \"E\",\n",
        "      \"15\" : \"F\",\n",
        "      \"16\" : \"G\",\n",
        "      \"17\" : \"H\",\n",
        "      \"18\" : \"I\",\n",
        "      \"19\": \"J\",\n",
        "      \"20\": \"K\",\n",
        "      \"21\": \"L\",\n",
        "      \"22\": \"M\",\n",
        "      \"23\": \"N\",\n",
        "      \"24\": \"O\",\n",
        "      \"25\": \"P\",\n",
        "      \"26\": \"Q\",\n",
        "      \"27\": \"R\",\n",
        "      \"28\": \"S\",\n",
        "      \"29\": \"T\",\n",
        "      \"30\": \"U\",\n",
        "      \"31\": \"V\"\n",
        "  }\n",
        "  day_of_month = Day_of_month.get(day)\n",
        "  transaction_code =f\"{year_code}{Monthly_code}{day_of_month}\"\n",
        "\n",
        "  possible_characters = [\"A\", \"B\", \"C\",\"D\", \"E\", \"F\", \"G\", \"H\", \"I\", \"J\", \"K\", \"L\", \"M\", \"N\", \"O\", \"P\", \"Q\", \"R\", \"S\", \"T\", \"U\", \"V\", \"W\", \"X\", \"Y\", \"Z\", \"0\", \"1\", \"2\" \"3\", \"4\",\"5\",\"6\", \"7\",\"8\", \"9\"]\n",
        "  for i in range(7):\n",
        "    picked_char= random.choice(possible_characters)\n",
        "    transaction_code += picked_char\n",
        "  return transaction_code\n",
        "\n",
        "\n",
        "\n",
        "main_options = input(\"\"\"\n",
        "1. Safaricom +\n",
        "2. M-PESA\n",
        "\"\"\")\n",
        "if main_options == \"1\":\n",
        "  safaricom_plus_options = input(\"\"\"\n",
        "  1. My Account\n",
        "  2. M-Banking Services\n",
        "  \"\"\")\n",
        "  if safaricom_plus_options == \"1\":\n",
        "    safaricom_user_input = input(\"\"\"\n",
        "    1. Balance enquiry\n",
        "    2. Top-up\n",
        "    3. Selfcare\n",
        "    4. Customer Care\n",
        "\n",
        "    \"\"\")\n",
        "    if safaricom_user_input == \"1\":\n",
        "      print(f\"Your airtime balance is {airtime_balance}\")\n",
        "    elif safaricom_user_input == \"2\":\n",
        "      print(\"You have selected Top-up\")\n",
        "    elif safaricom_user_input == \"3\":\n",
        "      print(\"You have selected Selfcare\")\n",
        "    elif safaricom_user_input == \"4\":\n",
        "      print(\"You have selected Customer Care\")\n",
        "\n",
        "\n",
        "  elif safaricom_plus_options == \"2\":\n",
        "    print(\"You have selected M-Banking Services\")\n",
        "  else:\n",
        "    print(\"Invalid Option\")\n",
        "elif main_options == \"2\":\n",
        "  mpesa_options = input(\"\"\"\n",
        "  1. Send Money\n",
        "  2. Withdraw Cash\n",
        "  3. Buy Airtime\n",
        "  4. Loans and Savings\n",
        "  5. Lipa na M-PESA\n",
        "  6. My Account\n",
        "  \"\"\")\n",
        "  if mpesa_options == \"1\":\n",
        "    phone_number = input(\"Enter the phone number you want to send money to : \")\n",
        "    amount = int(input(\"Enter the amount you want to send : \"))\n",
        "    user_pin = int(input(\"Enter your PIN : \"))\n",
        "    if user_pin == mpesa_pin:\n",
        "     if amount <= mpesa_balance:\n",
        "      mpesa_balance -= amount\n",
        "      daily_transaction_limit -= amount\n",
        "      transaction = transaction_codes(date_today)\n",
        "      print(f\"{transaction} Confirmed. You have Succesfully sent  {amount} to Mary Kipchoge {phone_number} on {date_today} at {time_now} Your new Mpesa balance is {mpesa_balance}. Amount you can transact in a day is {daily_transaction_limit}. {get_promotional_message()}\")\n",
        "     else:\n",
        "      print(\"Transaction Failed. You have insufficient balance in your account\")\n",
        "\n",
        "    else:\n",
        "      print(\"You have entered the incorrect PIN\")\n",
        "  elif mpesa_options == \"2\":\n",
        "    print(\"You have selected Withdraw Cash\")\n",
        "  elif mpesa_options == \"3\":\n",
        "    airtime_input = int(input(\"\"\"\n",
        "    1. My Phone\n",
        "    2. Other Phone\n",
        "    \"\"\"))\n",
        "    if airtime_input == \"1\":\n",
        "      amount = int(input(\"Enter the amount you want to send : \"))\n",
        "      user_pin = int(input(\"Enter your PIN : \"))\n",
        "      if user_pin == mpesa_pin:\n",
        "        if amount <= mpesa_balance:\n",
        "          mpesa_balance -= amount\n",
        "          daily_transaction_limit -= amount\n",
        "          transaction = transaction_codes(date_today)\n",
        "          airtime_balance += amount\n",
        "          print(f\"{transaction} Confirmed. You have Succesfully bought {amount} airtime on {date_today} at {time_now} Your new Mpesa balance is {mpesa_balance}.Your new airtime balance is {airtime_balance} Amount you can transact in a day is {daily_transaction_limit}. {get_promotional_message()}\")\n",
        "        else:\n",
        "          print(\"Transaction Failed. You have insufficient balance in your account\")\n",
        "\n",
        "      else:\n",
        "          print(\"You have entered the incorrect PIN\")\n",
        "    else:\n",
        "      phone_number = input(\"Enter the phone number you want to send money to : \")\n",
        "      amount = int(input(\"Enter the amount you want to send : \"))\n",
        "      user_pin = int(input(\"Enter your PIN : \"))\n",
        "      if user_pin == mpesa_pin:\n",
        "        if amount <= mpesa_balance:\n",
        "          mpesa_balance -= amount\n",
        "          daily_transaction_limit -= amount\n",
        "          transaction = transaction_codes(date_today)\n",
        "          print(f\"{transaction} Confirmed. You have Succesfully bought {amount} airtime to Mary Kipchoge {phone_number} on {date_today} at {time_now} Your new Mpesa balance is {mpesa_balance}. Amount you can transact in a day is {daily_transaction_limit}. {get_promotional_message()}\")\n",
        "        else:\n",
        "          print(\"Transaction Failed. You have insufficient balance in your account\")\n",
        "\n",
        "      else:\n",
        "          print(\"You have entered the incorrect PIN\")\n",
        "\n",
        "  elif mpesa_options == \"4\":\n",
        "    print(\"You have selected Loans and Savings\")\n",
        "  elif mpesa_options == \"5\":\n",
        "    print(\"You have selected Lipa na M-PESA\")\n",
        "    lipa_mpesaoptions = input(\"\"\"\n",
        "    1. Pay Bill\n",
        "    2. Buy Goods and Services\n",
        "    3. Pochi La Biashara\n",
        "    \"\"\")\n",
        "    if lipa_mpesaoptions == \"1\":\n",
        "      business_num = int(input(\"Enter business Number: \"))\n",
        "      account_num = input(\"Enter Account Number: \")\n",
        "      amount = int(input(\"Enter Amount: \"))\n",
        "      user_pin = int(input(\"Enter your pin: \"))\n",
        "      if user_pin == mpesa_pin:\n",
        "       if amount <= mpesa_balance:\n",
        "          mpesa_balance -= amount\n",
        "          daily_transaction_limit -= amount\n",
        "          print(f\"TEK345D6D Confirmed. You have Succesfully sent  {amount} to Mary Kipchoge  on 20/5/2025 at 9:22am. Your new Mpesa balance is {mpesa_balance}. Amount you can transact in a day is {daily_transaction_limit}. {get_promotional_message()}.\")\n",
        "       else:\n",
        "        print(\"Transaction Failed. You have insufficient balance in your account\")\n",
        "\n",
        "    elif lipa_mpesaoptions == \"2\":\n",
        "      till_num =int(input(\"Enter the Till number\"))\n",
        "      amount= int(input(\"Enter the Amount\"))\n",
        "      user_pin = int(input(\"Enter your pin:\"))\n",
        "      if user_pin == mpesa_pin:\n",
        "        if amount <= mpesa_balance:\n",
        "          mpesa_balance -= amount\n",
        "          daily_transaction_limit -= amount\n",
        "          print(f\"TEK345D6D Confirmed. You have Succesfully sent  {amount} to Mary Kipchoge  on 20/5/2025 at 9:22am. Your new Mpesa balance is {mpesa_balance}. Amount you can transact in a day is {daily_transaction_limit}. {get_promotional_message()}.\")\n",
        "        else:\n",
        "          print(\"Transaction Failed. You have insufficient balance in your account\")\n",
        "\n",
        "    elif lipa_mpesaoptions == \"3\":\n",
        "      pochi_biashara = int(input(\"Enter the phone number\"))\n",
        "      amount = int(input(\"Enter the amount\"))\n",
        "      user_pin = int(input(\"Enter your pin:\"))\n",
        "      if user_pin == mpesa_pin:\n",
        "        if amount <= mpesa_balance:\n",
        "          mpesa_balance -= amount\n",
        "          daily_transaction_limit -= amount\n",
        "          print(f\"TEK345D6D Confirmed. You have Succesfully sent  {amount} to Mary Kipchoge  on 20/5/2025 at 9:22am. Your new Mpesa balance is {mpesa_balance}. Amount you can transact in a day is {daily_transaction_limit}. {get_promotional_message()}.\")\n",
        "\n",
        "        else:\n",
        "          print(\"Transaction Failed. You have insufficient balance in your account\")\n",
        "\n",
        "    else:\n",
        "      print(\"Invalid option\")\n",
        "  elif mpesa_options == \"6\":\n",
        "    my_acc_options = input(\"\"\"\n",
        "    1. Mini Statement\n",
        "    2. Mpesa PIN Manager\n",
        "    3. Change Language\n",
        "    4. Update Customer Menu\n",
        "    5. Check Balance\n",
        "\n",
        "    \"\"\")\n",
        "    if my_acc_options == \"1\":\n",
        "      print(\"You have selected Mini Statement\")\n",
        "    elif my_acc_options == \"2\":\n",
        "      old_pin = int(input(\"Enter your old PIN: \"))\n",
        "      if old_pin == mpesa_pin:\n",
        "        new_pin = int(input(\"Enter your new PIN: \"))\n",
        "        mpesa_pin = new_pin\n",
        "        print(\"Your PIN has been successfully changed\")\n",
        "      else:\n",
        "        print(\"Invalid PIN\")\n",
        "    elif my_acc_options == \"3\":\n",
        "      print(\"You have selected Change Language\")\n",
        "    elif my_acc_options == \"4\":\n",
        "      print(\"You have selected Update Customer Menu\")\n",
        "    elif my_acc_options == \"5\":\n",
        "\n",
        "      print(f\"Your Mpesa Balance is {mpesa_balance}\")\n",
        "    else:\n",
        "      print(\"Invalid Option\")\n",
        "else:\n",
        "  print(\"Invalid Option\")"
      ],
      "metadata": {
        "colab": {
          "base_uri": "https://localhost:8080/"
        },
        "id": "sJu5_iTZgFVu",
        "outputId": "862cedb0-0677-43b4-84a5-3440e19803c3"
      },
      "execution_count": null,
      "outputs": [
        {
          "output_type": "stream",
          "name": "stdout",
          "text": [
            "Welcome to the Safaricom SIM Toolkit\n",
            "\n",
            "1. Safaricom +\n",
            "2. M-PESA\n",
            "2\n",
            "\n",
            "  1. Send Money\n",
            "  2. Withdraw Cash\n",
            "  3. Buy Airtime\n",
            "  4. Loans and Savings\n",
            "  5. Lipa na M-PESA\n",
            "  6. My Account\n",
            "  1\n",
            "Enter the phone number you want to send money to : 074567829\n",
            "Enter the amount you want to send : 200\n",
            "Enter your PIN : 1234\n",
            "TEQ78QONVV Confirmed. You have Succesfully sent  200 to Mary Kipchoge 074567829 on 2025-05-26 at 10:45:46 Your new Mpesa balance is 299800. Amount you can transact in a day is 499800.  Save frequent tills for quick payment on Mpesa app https://bit.ly/mpesalnk\n"
          ]
        }
      ]
    },
    {
      "cell_type": "code",
      "source": [
        "# if condition1:\n",
        "#   if nested_condition:\n",
        "#     code to be run\n",
        "#   elif nested_condition2:\n",
        "#     code to be run\n",
        "# elif condition2:\n",
        "#   code to be executed if condition2 is True\n",
        "# elif condition3:\n",
        "#   code to be executed if condition3 is True\n",
        "# else:\n",
        "#   code to be executed if all the conditions are False"
      ],
      "metadata": {
        "colab": {
          "base_uri": "https://localhost:8080/"
        },
        "id": "loFA8VFVmeLR",
        "outputId": "b48c7705-3e56-4abe-f4f6-766d076649f8"
      },
      "execution_count": null,
      "outputs": [
        {
          "output_type": "stream",
          "name": "stdout",
          "text": [
            "\n",
            "chsdc\n",
            "cjskdhc\n",
            "cbdkzhasls\n",
            "cajxh\n",
            "xskajxgas\n",
            "cbhjxajxb\n",
            "xvajsxa\n",
            " bxjagxiu\n",
            " xvaysut\n",
            " ]wfwqysy\n",
            " \n",
            "\n",
            "\n",
            "\n"
          ]
        }
      ]
    },
    {
      "cell_type": "markdown",
      "source": [
        "Set - sequential datatype that stores multiple values\n",
        "\n",
        "- unordered\n",
        "- does not allow for duplicates\n",
        "- defined using the curly brackets"
      ],
      "metadata": {
        "id": "77azGLTwrXkV"
      }
    },
    {
      "cell_type": "code",
      "source": [
        "# list_name = [item1, item2, item3]\n",
        "# tuple_name = (item1, item2, item3)\n",
        "# set_name = {item1, item2, item3}\n",
        "\n",
        "dice_outcomes = {1, 2, 3, 4, 5, 6, 3, 5, 1, 4}\n",
        "\n",
        "print(type(dice_outcomes))\n",
        "print(dice_outcomes)"
      ],
      "metadata": {
        "id": "GGMBD3MLqTpb",
        "colab": {
          "base_uri": "https://localhost:8080/"
        },
        "outputId": "f76b67d4-82dd-4af1-8929-074862156c59"
      },
      "execution_count": null,
      "outputs": [
        {
          "output_type": "stream",
          "name": "stdout",
          "text": [
            "<class 'set'>\n",
            "{1, 2, 3, 4, 5, 6}\n"
          ]
        }
      ]
    },
    {
      "cell_type": "code",
      "source": [
        "alphabet = {\"A\", \"B\", \"C\", \"D\", \"E\"}\n",
        "\n",
        "alphabet.add(\"F\")\n",
        "\n",
        "print(alphabet)"
      ],
      "metadata": {
        "colab": {
          "base_uri": "https://localhost:8080/"
        },
        "id": "WNSq-hZBsi5P",
        "outputId": "d685bf22-c9d1-4a3e-900a-d595bdaae187"
      },
      "execution_count": null,
      "outputs": [
        {
          "output_type": "stream",
          "name": "stdout",
          "text": [
            "{'F', 'D', 'C', 'E', 'A', 'B'}\n"
          ]
        }
      ]
    },
    {
      "cell_type": "code",
      "source": [
        "alphabet.remove(\"E\")"
      ],
      "metadata": {
        "id": "IuxKopQGuTsT"
      },
      "execution_count": null,
      "outputs": []
    },
    {
      "cell_type": "code",
      "source": [
        "print(alphabet)"
      ],
      "metadata": {
        "colab": {
          "base_uri": "https://localhost:8080/"
        },
        "id": "mQ9gbyJnuqc7",
        "outputId": "78ed6def-73d4-41d3-f1fa-92d5d35b8341"
      },
      "execution_count": null,
      "outputs": [
        {
          "output_type": "stream",
          "name": "stdout",
          "text": [
            "{'F', 'D', 'C', 'A', 'B'}\n"
          ]
        }
      ]
    },
    {
      "cell_type": "markdown",
      "source": [
        "Dictionary - key - value pairs\n",
        "\n",
        "Ordered\n",
        "\n",
        "Changeable\n",
        "\n",
        "Created using the {}"
      ],
      "metadata": {
        "id": "S2hRo9PWu8J9"
      }
    },
    {
      "cell_type": "code",
      "source": [
        "# Syntax\n",
        "# dict_name = {\n",
        "#     key1: value1,\n",
        "#     key2: value2,\n",
        "#     key3: value3\n",
        "# }\n",
        "\n",
        "job_requirements = {\n",
        "    \"Programming Language\": \"Python\",\n",
        "    \"Version Control\": \"Git\",\n",
        "    \"Years of Experience\": 1,\n",
        "    \"Soft Skills\": \"Public Speaking\",\n",
        "    \"Spoken Languages\": [\"English\", \"Kiswahili\"],\n",
        "    \"Work under pressure\": True\n",
        "}\n",
        "\n",
        "print(job_requirements)"
      ],
      "metadata": {
        "colab": {
          "base_uri": "https://localhost:8080/"
        },
        "id": "70jckCKmuvQg",
        "outputId": "7d1c35e7-e0d9-499f-a820-21894f240dbf"
      },
      "execution_count": null,
      "outputs": [
        {
          "output_type": "stream",
          "name": "stdout",
          "text": [
            "{'Programming Language': 'Python', 'Version Control': 'Git', 'Years of Experience': 1, 'Soft Skills': 'Public Speaking', 'Spoken Languages': ['English', 'Kiswahili'], 'Work under pressure': True}\n"
          ]
        }
      ]
    },
    {
      "cell_type": "markdown",
      "source": [
        "Access the values using square brackets"
      ],
      "metadata": {
        "id": "PQM0tGPixCgQ"
      }
    },
    {
      "cell_type": "code",
      "source": [
        "print(job_requirements[\"Programming Language\"])"
      ],
      "metadata": {
        "colab": {
          "base_uri": "https://localhost:8080/"
        },
        "id": "Or2MvXVqwtBp",
        "outputId": "0326645b-1f72-4ff5-f4f3-e7c42469dcdc"
      },
      "execution_count": null,
      "outputs": [
        {
          "output_type": "stream",
          "name": "stdout",
          "text": [
            "Python\n"
          ]
        }
      ]
    },
    {
      "cell_type": "markdown",
      "source": [
        "Access the values using .get() method"
      ],
      "metadata": {
        "id": "bK2P3Bz_xdD5"
      }
    },
    {
      "cell_type": "code",
      "source": [
        "print(job_requirements.get(\"Spoken Languages\"))"
      ],
      "metadata": {
        "colab": {
          "base_uri": "https://localhost:8080/"
        },
        "id": "dpqMTmTMxXzy",
        "outputId": "198a23ab-dfd0-499d-efcd-ca22773f0169"
      },
      "execution_count": null,
      "outputs": [
        {
          "output_type": "stream",
          "name": "stdout",
          "text": [
            "['English', 'Kiswahili']\n"
          ]
        }
      ]
    },
    {
      "cell_type": "markdown",
      "source": [
        "Getting all the keys in a dictionary"
      ],
      "metadata": {
        "id": "-umvaVHsx3Aw"
      }
    },
    {
      "cell_type": "code",
      "source": [
        "print(job_requirements.keys())"
      ],
      "metadata": {
        "colab": {
          "base_uri": "https://localhost:8080/"
        },
        "id": "OOtnZroexsCv",
        "outputId": "c6d5d15c-708e-4216-c424-9df17e2e5047"
      },
      "execution_count": null,
      "outputs": [
        {
          "output_type": "stream",
          "name": "stdout",
          "text": [
            "dict_keys(['Programming Language', 'Version Control', 'Years of Experience', 'Soft Skills', 'Spoken Languages', 'Work under pressure'])\n"
          ]
        }
      ]
    },
    {
      "cell_type": "markdown",
      "source": [
        "Getting the values in a dictionary"
      ],
      "metadata": {
        "id": "CekbCSSCyL3Z"
      }
    },
    {
      "cell_type": "code",
      "source": [
        "print(job_requirements.values())"
      ],
      "metadata": {
        "colab": {
          "base_uri": "https://localhost:8080/"
        },
        "id": "5cxf0HbOyFYj",
        "outputId": "823ab421-8061-4413-e9fe-212d02c2eb5f"
      },
      "execution_count": null,
      "outputs": [
        {
          "output_type": "stream",
          "name": "stdout",
          "text": [
            "dict_values(['Python', 'Git', 1, 'Public Speaking', ['English', 'Kiswahili'], True])\n"
          ]
        }
      ]
    },
    {
      "cell_type": "code",
      "source": [
        "print(job_requirements[\"Spoken Languages\"][0])"
      ],
      "metadata": {
        "colab": {
          "base_uri": "https://localhost:8080/"
        },
        "id": "0IGTRXThz8Wv",
        "outputId": "2792bb5e-e391-4872-d6b0-e868fe5cc519"
      },
      "execution_count": null,
      "outputs": [
        {
          "output_type": "stream",
          "name": "stdout",
          "text": [
            "English\n"
          ]
        }
      ]
    },
    {
      "cell_type": "code",
      "source": [
        "username = input(\"Enter your name here : \")\n",
        "age = int(input(\"Enter your age here : \"))\n",
        "residence = input(\"Enter your residence here : \")\n",
        "\n",
        "user_details = {\n",
        "    \"Name\": username,\n",
        "    \"Age\": age,\n",
        "    \"Residence\": residence\n",
        "}\n",
        "\n",
        "print(user_details)"
      ],
      "metadata": {
        "colab": {
          "base_uri": "https://localhost:8080/"
        },
        "id": "N_hh8upHyRs2",
        "outputId": "38f20bce-a9be-4709-8a3f-e042f4aa3aba"
      },
      "execution_count": null,
      "outputs": [
        {
          "output_type": "stream",
          "name": "stdout",
          "text": [
            "Enter your name here : John Doe\n",
            "Enter your age here : 35\n",
            "Enter your residence here : Ngong\n",
            "{'Name': 'John Doe', 'Age': 35, 'Residence': 'Ngong'}\n"
          ]
        }
      ]
    },
    {
      "cell_type": "code",
      "source": [
        "user_choice = input(\"\"\"\n",
        "What do you want displayed\n",
        "1. Name\n",
        "2. Age\n",
        "3. Residence\n",
        "\"\"\")\n",
        "\n",
        "if user_choice == \"1\":\n",
        "  print(user_details[\"Name\"])\n",
        "elif user_choice == \"2\":\n",
        "  print(user_details[\"Age\"])\n",
        "elif user_choice == \"3\":\n",
        "  print(user_details[\"Residence\"])\n",
        "else:\n",
        "  print(\"Invalid Option\")"
      ],
      "metadata": {
        "colab": {
          "base_uri": "https://localhost:8080/"
        },
        "id": "oiWj9XXlyz-K",
        "outputId": "22690072-2974-45f1-d264-7413d8c11608"
      },
      "execution_count": null,
      "outputs": [
        {
          "output_type": "stream",
          "name": "stdout",
          "text": [
            "\n",
            "What do you want displayed\n",
            "1. Name\n",
            "2. Age\n",
            "3. Residence\n",
            "name\n",
            "Invalid Option\n"
          ]
        }
      ]
    },
    {
      "cell_type": "markdown",
      "source": [
        "Write a python script that does the following:\n",
        "\n",
        "1. Takes a single input from the user - number in words eg Nine\n",
        "2. Maps the input to a given numeral eg 9\n",
        "\n",
        "prints out the result eg Nine is mapped to 9"
      ],
      "metadata": {
        "id": "IaS4E3l0eZ0b"
      }
    },
    {
      "cell_type": "code",
      "source": [
        "num_mapping = {\n",
        "    \"one\": 1,\n",
        "    \"two\": 2,\n",
        "    \"three\": 3,\n",
        "    \"four\": 4,\n",
        "    \"five\": 5,\n",
        "    \"six\": 6,\n",
        "    \"seven\": 7,\n",
        "    \"eight\": 8,\n",
        "    \"nine\": 9,\n",
        "    \"ten\": 10\n",
        "}\n",
        "\n",
        "num_words = input(\"Enter the number in words : \").lower()\n",
        "\n",
        "print(f\"{num_words} is mapped to {num_mapping.get(num_words)}\")\n"
      ],
      "metadata": {
        "id": "ME8gI6IWzdhJ",
        "colab": {
          "base_uri": "https://localhost:8080/"
        },
        "outputId": "7d291541-a51e-4793-bf67-26f301a7c7bb"
      },
      "execution_count": null,
      "outputs": [
        {
          "output_type": "stream",
          "name": "stdout",
          "text": [
            "Enter the number in words : \n",
            " is mapped to None\n"
          ]
        }
      ]
    },
    {
      "cell_type": "markdown",
      "source": [
        "Adding pairs to a dictionary\n",
        "\n",
        "Direct Assignment"
      ],
      "metadata": {
        "id": "mah6fCxGjh2X"
      }
    },
    {
      "cell_type": "code",
      "source": [
        "num_mapping[\"zero\"] = 0\n",
        "\n",
        "print(num_mapping)"
      ],
      "metadata": {
        "colab": {
          "base_uri": "https://localhost:8080/"
        },
        "id": "rxkPKMHsi2Xx",
        "outputId": "667b60e2-3d08-45fc-9791-1bb0d4cd4e2a"
      },
      "execution_count": null,
      "outputs": [
        {
          "output_type": "stream",
          "name": "stdout",
          "text": [
            "{'one': 1, 'two': 2, 'three': 3, 'four': 4, 'five': 5, 'six': 6, 'seven': 7, 'eight': 8, 'nine': 9, 'ten': 10, 'zero': 0}\n"
          ]
        }
      ]
    },
    {
      "cell_type": "markdown",
      "source": [
        "Adding multiple items - .update()"
      ],
      "metadata": {
        "id": "Lxmz2UhCkDi-"
      }
    },
    {
      "cell_type": "code",
      "source": [
        "num_mapping.update({\n",
        "    \"eleven\": 11,\n",
        "    \"twelve\": 12,\n",
        "    \"thirteen\": 13,\n",
        "    \"fourteen\": 14,\n",
        "    \"fifteen\": 15,\n",
        "    \"sixteen\": 16,\n",
        "    \"seventeen\": 17,\n",
        "    \"eighteen\": 18,\n",
        "    \"nineteen\": 19,\n",
        "    \"twenty\": 20\n",
        "})\n",
        "\n",
        "print(num_mapping)"
      ],
      "metadata": {
        "colab": {
          "base_uri": "https://localhost:8080/"
        },
        "id": "e7e_Vnb2j2KX",
        "outputId": "d2319798-62f0-464d-fd21-9386c8ac7acb"
      },
      "execution_count": null,
      "outputs": [
        {
          "output_type": "stream",
          "name": "stdout",
          "text": [
            "{'one': 1, 'two': 2, 'three': 3, 'four': 4, 'five': 5, 'six': 6, 'seven': 7, 'eight': 8, 'nine': 9, 'ten': 10, 'zero': 0, 'eleven': 11, 'twelve': 12, 'thirteen': 13, 'fourteen': 14, 'fifteen': 15, 'sixteen': 16, 'seventeen': 17, 'eighteen': 18, 'nineteen': 19, 'twenty': 20}\n"
          ]
        }
      ]
    },
    {
      "cell_type": "markdown",
      "source": [
        "Removing pairs - .pop()"
      ],
      "metadata": {
        "id": "QarqYmzok4Nh"
      }
    },
    {
      "cell_type": "code",
      "source": [
        "num_mapping.pop(\"zero\")\n",
        "\n",
        "print(num_mapping)"
      ],
      "metadata": {
        "colab": {
          "base_uri": "https://localhost:8080/"
        },
        "id": "JQB-3FOwkslz",
        "outputId": "da2450e8-cbc4-4d72-ca9b-41c070b0d54a"
      },
      "execution_count": null,
      "outputs": [
        {
          "output_type": "stream",
          "name": "stdout",
          "text": [
            "{'one': 1, 'two': 2, 'three': 3, 'four': 4, 'five': 5, 'six': 6, 'seven': 7, 'eight': 8, 'nine': 9, 'ten': 10, 'eleven': 11, 'twelve': 12, 'thirteen': 13, 'fourteen': 14, 'fifteen': 15, 'sixteen': 16, 'seventeen': 17, 'eighteen': 18, 'nineteen': 19, 'twenty': 20}\n"
          ]
        }
      ]
    },
    {
      "cell_type": "markdown",
      "source": [
        "Write a python script that does the following:\n",
        "\n",
        "1. Takes 2 inputs from a student - Name, Marks (out of 84)\n",
        "2. Map the name to the marks the student got\n",
        "3. Allocate a grade A(above 80), A- (74-80), B+(65-73),B(60-64), B-(55-59), C+(50-54), C(45-49), C-(40-44), D+(35-39), D(30-34), D-(25-29), E(below 25)"
      ],
      "metadata": {
        "id": "O2wB_x8yl06X"
      }
    },
    {
      "cell_type": "code",
      "source": [
        "name = input(\"Enter your name here : \")\n",
        "marks = int(input(\"Enter your marks here : \"))\n",
        "\n",
        "# marks_mapping = {\n",
        "#     name: marks\n",
        "# }\n",
        "marks_mapping.update({\n",
        "    name: marks\n",
        "})\n",
        "\n",
        "if marks > 84 or marks < 0:\n",
        "  print(\"You have entered an invalid mark\")\n",
        "else:\n",
        "  print(marks_mapping)\n"
      ],
      "metadata": {
        "colab": {
          "base_uri": "https://localhost:8080/"
        },
        "id": "Y3o-0zetlT_3",
        "outputId": "767b8583-a6b6-4318-841c-389434cbc1cb"
      },
      "execution_count": null,
      "outputs": [
        {
          "output_type": "stream",
          "name": "stdout",
          "text": [
            "Enter your name here : Wayne\n",
            "Enter your marks here : 30\n",
            "{'Eunice': 50, 'Wayne': 30}\n"
          ]
        }
      ]
    },
    {
      "cell_type": "code",
      "source": [
        "print(marks_mapping)"
      ],
      "metadata": {
        "colab": {
          "base_uri": "https://localhost:8080/"
        },
        "id": "u8FhND6xwdED",
        "outputId": "b34f4e35-34d1-4bbe-955f-f4b4fce4b600"
      },
      "execution_count": null,
      "outputs": [
        {
          "output_type": "stream",
          "name": "stdout",
          "text": [
            "{'Eunice': 50, 'Wayne': 30}\n"
          ]
        }
      ]
    },
    {
      "cell_type": "code",
      "source": [
        "student_inq = input(\"Enter the name of the student to fetch their grade : \")\n",
        "\n",
        "mark_got = marks_mapping.get(student_inq)\n",
        "\n",
        "if mark_got > 80:\n",
        "  print(f\"{student_inq} got a grade A\")\n",
        "elif mark_got >= 74:\n",
        "  print(f\"{student_inq} got a grade A-\")\n",
        "elif mark_got >= 65:\n",
        "  print(f\"{student_inq} got a grade B+\")\n",
        "elif mark_got >= 60:\n",
        "  print(f\"{student_inq} got a grade B\")\n",
        "elif mark_got >= 55:\n",
        "  print(f\"{student_inq} got a grade B-\")\n",
        "elif mark_got >= 50:\n",
        "  print(f\"{student_inq} got a grade C+\")\n",
        "elif mark_got >= 45:\n",
        "  print(f\"{student_inq} got a grade C\")\n",
        "elif mark_got >= 40:\n",
        "  print(f\"{student_inq} got a grade C-\")\n",
        "elif mark_got >= 35:\n",
        "  print(f\"{student_inq} got a grade D+\")\n",
        "elif mark_got >= 30:\n",
        "  print(f\"{student_inq} got a grade D\")\n",
        "elif mark_got >= 25:\n",
        "  print(f\"{student_inq} got a grade D-\")\n",
        "else:\n",
        "  print(f\"{student_inq} got a grade E\")"
      ],
      "metadata": {
        "colab": {
          "base_uri": "https://localhost:8080/"
        },
        "id": "x3_DQ1batfwA",
        "outputId": "8a08107c-00ae-4603-f66f-ed5045bede32"
      },
      "execution_count": null,
      "outputs": [
        {
          "output_type": "stream",
          "name": "stdout",
          "text": [
            "Enter the name of the student to fetch their grade : Eunice\n",
            "Eunice got a grade C+\n"
          ]
        }
      ]
    },
    {
      "cell_type": "markdown",
      "source": [
        "Logical Operators - return Boolean - True or False\n",
        "\n",
        "and - return True if both conditions are True\n",
        "\n",
        "or return True if at least one of the two conditions is true\n",
        "\n",
        "not - negate values"
      ],
      "metadata": {
        "id": "eoOr8NRS1u_y"
      }
    },
    {
      "cell_type": "code",
      "source": [
        "print(10 > 5 and 2 != 2)"
      ],
      "metadata": {
        "colab": {
          "base_uri": "https://localhost:8080/"
        },
        "id": "H0Sxaztltw3j",
        "outputId": "a4be004c-d8b6-4f59-abec-fe63f09ea6d1"
      },
      "execution_count": null,
      "outputs": [
        {
          "output_type": "stream",
          "name": "stdout",
          "text": [
            "False\n"
          ]
        }
      ]
    },
    {
      "cell_type": "code",
      "source": [
        "name = \"PETER\"\n",
        "\n",
        "print(name == \"Peter\" or name == \"PETER\")"
      ],
      "metadata": {
        "colab": {
          "base_uri": "https://localhost:8080/"
        },
        "id": "Mf0R9_682WeT",
        "outputId": "1b31b75a-f0d3-4940-9834-0b7dcb3f5dec"
      },
      "execution_count": null,
      "outputs": [
        {
          "output_type": "stream",
          "name": "stdout",
          "text": [
            "True\n"
          ]
        }
      ]
    },
    {
      "cell_type": "code",
      "source": [
        "print(not 50 < 100)"
      ],
      "metadata": {
        "id": "9Atj7z4Q5mGT",
        "outputId": "c8f5435c-f22c-45ce-8554-0c7932c0607a",
        "colab": {
          "base_uri": "https://localhost:8080/"
        }
      },
      "execution_count": null,
      "outputs": [
        {
          "output_type": "stream",
          "name": "stdout",
          "text": [
            "False\n"
          ]
        }
      ]
    },
    {
      "cell_type": "markdown",
      "source": [
        "Write a python script that does the following\n",
        "\n",
        "PAYSLIP GENERATOR\n",
        "\n",
        "1. Takes 2 inputs from the user - name, gross\n",
        "2. Calculates the tax band they belong - deducts the PAYE\n",
        "3. Deducts NSSF and NHIF\n",
        "4. Returns the final payslip"
      ],
      "metadata": {
        "id": "0W6IrDtZ6GZx"
      }
    },
    {
      "cell_type": "code",
      "source": [
        "name = input(\"Enter your name : \").upper()\n",
        "id_no = int(input(\"Enter your ID number: \"))\n",
        "basic_salary = int(input(\"Enter your basic salary: \"))\n",
        "allowances = int(input(\"Enter your allowance: \"))\n",
        "\n",
        "gross_salary = basic_salary+ allowances\n",
        "if gross_salary > 0:\n",
        "  if gross_salary < 8000 :\n",
        "    nssf_contr = 480\n",
        "  elif gross_salary <=72000:\n",
        "    nssf_contr =3840\n",
        "  else:\n",
        "    nssf_contr = 4320\n",
        "\n",
        "  shif_contr =0.0275 * gross_salary\n",
        "  if shif_contr < 300:\n",
        "    shif_contr = 300\n",
        "\n",
        "  #PAYE\n",
        "  if gross_salary >= 24000:\n",
        "    paye_ded = 0.1 * 24000\n",
        "    taxable_income = gross_salary - 24000\n",
        "    if taxable_income >= 8333:\n",
        "      paye_ded += 0.25 * 8333\n",
        "      taxable_income =taxable_income - 8333\n",
        "      paye_ded = paye_ded + 0.3* taxable_income\n",
        "    else:\n",
        "      paye_ded = paye_ded + 0.25 * taxable_income\n",
        "  else:\n",
        "    paye_ded = 0.1 * gross_salary\n",
        "\n",
        "\n",
        "\n",
        "  print(f\"\"\"\n",
        "  Name: {name}\n",
        "  ID Number: {id_no}\n",
        "  Basic Pay: Ksh.{basic_salary}\n",
        "  Allowances: Ksh.{allowances}\n",
        "  Gross pay: Ksh.{gross_salary}\n",
        "  NSSF Deduction: Ksh.{nssf_contr}\n",
        "  SHIF Deduction: Ksh.{shif_contr}\n",
        "  PAYE Deduction: Ksh.{paye_ded}\n",
        "  Net Pay: Ksh.{gross_salary - (nssf_contr + shif_contr + paye_ded)}\n",
        "  \"\"\")\n",
        "else:\n",
        "  print(\"Invalid Input\")\n"
      ],
      "metadata": {
        "colab": {
          "base_uri": "https://localhost:8080/"
        },
        "id": "_3qoaLzbkUzZ",
        "outputId": "0033079a-e3fd-4bf4-8d19-5fb9bfd233c1"
      },
      "execution_count": null,
      "outputs": [
        {
          "output_type": "stream",
          "name": "stdout",
          "text": [
            "Enter your name : Mary John\n",
            "Enter your ID number: 234567\n",
            "Enter your basic salary: 100000\n",
            "Enter your allowance: 30000\n",
            "\n",
            "Name: MARY JOHN\n",
            "ID Number: 234567\n",
            "Basic Pay: Ksh.100000\n",
            "Allowances: Ksh.30000\n",
            "Gross pay: Ksh.130000\n",
            "NSSF Deduction: Ksh.4320\n",
            "SHIF Deduction: Ksh.3575.0\n",
            "PAYE Deduction: Ksh.33783.35\n",
            "Net Pay: Ksh.88321.65\n",
            "\n"
          ]
        }
      ]
    },
    {
      "cell_type": "markdown",
      "source": [
        "Membership operators\n",
        "in - check whether an element/string is part of another -return true if one is part of the other\n",
        "not in - return a true if one if one is not part of the other"
      ],
      "metadata": {
        "id": "xuFfwpcT_Tl0"
      }
    },
    {
      "cell_type": "code",
      "source": [
        "print(\"python\" in \"Python is the most popular programming language\")"
      ],
      "metadata": {
        "id": "KixWENjn537k",
        "colab": {
          "base_uri": "https://localhost:8080/"
        },
        "outputId": "d62866ae-a80d-4229-e585-58491252311a"
      },
      "execution_count": null,
      "outputs": [
        {
          "output_type": "stream",
          "name": "stdout",
          "text": [
            "False\n"
          ]
        }
      ]
    },
    {
      "cell_type": "markdown",
      "source": [],
      "metadata": {
        "id": "Q5-iWpD0ArO7"
      }
    },
    {
      "cell_type": "code",
      "source": [
        "\"Python\" in [\"Java\", \"Javascript\",  \"Swift\", \"Ruby\"]"
      ],
      "metadata": {
        "colab": {
          "base_uri": "https://localhost:8080/"
        },
        "id": "l_GH2sERABc3",
        "outputId": "e36bc704-4ea3-4fda-e231-113eaeedd2d6"
      },
      "execution_count": null,
      "outputs": [
        {
          "output_type": "execute_result",
          "data": {
            "text/plain": [
              "False"
            ]
          },
          "metadata": {},
          "execution_count": 7
        }
      ]
    },
    {
      "cell_type": "markdown",
      "source": [
        "Loops  - blocks of code that are executed  iteratively\n",
        "- For loop - iterate over elememts in a sequential data types, or iterate over code in a given range\n",
        "-While loops - iterate over code until it gets terminated"
      ],
      "metadata": {
        "id": "aZa67UH0AtLU"
      }
    },
    {
      "cell_type": "code",
      "source": [
        "\n",
        "fruits = [\"Banana\", \"Watermelon\", \"Avocado\", \"Passion\", \"Mango\"]\n",
        "favorites = [\"Watermelon\",\"Mango\"]\n",
        "\n",
        "for fruit in fruits:\n",
        " if fruit in favorites:\n",
        "   print(f\"I love {fruit}\")\n",
        " else:\n",
        "  print(f\"A {fruit} is ok\")\n"
      ],
      "metadata": {
        "colab": {
          "base_uri": "https://localhost:8080/"
        },
        "id": "lyazfVeUBGM8",
        "outputId": "66763a72-638e-4678-e042-d9a67ef790b3"
      },
      "execution_count": null,
      "outputs": [
        {
          "output_type": "stream",
          "name": "stdout",
          "text": [
            "A Banana is ok\n",
            "I love Watermelon\n",
            "A Avocado is ok\n",
            "A Passion is ok\n",
            "I love Mango\n"
          ]
        }
      ]
    },
    {
      "cell_type": "markdown",
      "source": [
        "Write python script that does the following:\n",
        "1. Hard codes the big five animals and stores them in a list\n",
        "2. Hard codes six other animals and stores them in a list\n",
        "3. join the two list\n",
        "4. sort the list in alphabetical list\n",
        "5. print out the resultant list\n",
        "6. loop through the resultant list while printing the animal and whether it is part of the big five e.g Zebra is not part of the big 5\n"
      ],
      "metadata": {
        "id": "e1ctoSyIGC7b"
      }
    },
    {
      "cell_type": "code",
      "source": [],
      "metadata": {
        "id": "i0JpdmzYHSot"
      },
      "execution_count": null,
      "outputs": []
    },
    {
      "cell_type": "code",
      "source": [
        "big_five =[\"Lion\", \"Rhino\", \"Buffalo\", \"Leopard\",\"Elephant\"]\n",
        "animals = [\"Girrafe\", \"Zebra\", \"Warthog\", \"Chimpanzee\", \"Antelope\", \"Hippopotamus\"]\n",
        "all_animals= big_five + animals\n",
        "all_animals.sort()\n",
        "print(all_animals)\n",
        "\n",
        "for animal in all_animals:\n",
        "  if animal in animals:\n",
        "    print(f\"{animal} is not part of the Big Five\")\n",
        "  else:\n",
        "    print(f\"{animal} is part of the Big Five\")\n"
      ],
      "metadata": {
        "colab": {
          "base_uri": "https://localhost:8080/"
        },
        "id": "vUAjG8M8HTty",
        "outputId": "90d82666-9b89-4c05-9ae1-57ce9fb440c7"
      },
      "execution_count": null,
      "outputs": [
        {
          "output_type": "stream",
          "name": "stdout",
          "text": [
            "['Antelope', 'Buffalo', 'Chimpanzee', 'Elephant', 'Girrafe', 'Hippopotamus', 'Leopard', 'Lion', 'Rhino', 'Warthog', 'Zebra']\n",
            "Antelope is not part of the Big Five\n",
            "Buffalo is part of the Big Five\n",
            "Chimpanzee is not part of the Big Five\n",
            "Elephant is part of the Big Five\n",
            "Girrafe is not part of the Big Five\n",
            "Hippopotamus is not part of the Big Five\n",
            "Leopard is part of the Big Five\n",
            "Lion is part of the Big Five\n",
            "Rhino is part of the Big Five\n",
            "Warthog is not part of the Big Five\n",
            "Zebra is not part of the Big Five\n"
          ]
        }
      ]
    },
    {
      "cell_type": "markdown",
      "source": [
        "Ranges - start is inclusive and stop is exclusive"
      ],
      "metadata": {
        "id": "vEto-PM9GOVL"
      }
    },
    {
      "cell_type": "code",
      "source": [
        "for num in range(10):\n",
        "  print(num)\n"
      ],
      "metadata": {
        "colab": {
          "base_uri": "https://localhost:8080/"
        },
        "id": "xlF_8yPLGdy2",
        "outputId": "3727f539-14d8-40df-88d6-00d68f5f32f6"
      },
      "execution_count": null,
      "outputs": [
        {
          "output_type": "stream",
          "name": "stdout",
          "text": [
            "0\n",
            "1\n",
            "2\n",
            "3\n",
            "4\n",
            "5\n",
            "6\n",
            "7\n",
            "8\n",
            "9\n"
          ]
        }
      ]
    },
    {
      "cell_type": "code",
      "source": [
        "for i in range(30,40):\n",
        "  print(i)"
      ],
      "metadata": {
        "colab": {
          "base_uri": "https://localhost:8080/"
        },
        "id": "2XDgjHclGqvt",
        "outputId": "c5ae28a0-b79e-4ab5-8f83-dc8f294a6eb9"
      },
      "execution_count": null,
      "outputs": [
        {
          "output_type": "stream",
          "name": "stdout",
          "text": [
            "30\n",
            "31\n",
            "32\n",
            "33\n",
            "34\n",
            "35\n",
            "36\n",
            "37\n",
            "38\n",
            "39\n"
          ]
        }
      ]
    },
    {
      "cell_type": "markdown",
      "source": [
        "write python script that prints out all the numbers between 1 and 100 that are divisible by 7. use a for loop"
      ],
      "metadata": {
        "id": "kALdZ5oBHOx6"
      }
    },
    {
      "cell_type": "code",
      "source": [
        "div_by7 = []\n",
        "for i in range(1, 101):\n",
        "  if i % 7 == 0:\n",
        "    div_by7.append(i)\n",
        "print(div_by7)\n",
        "\n"
      ],
      "metadata": {
        "colab": {
          "base_uri": "https://localhost:8080/"
        },
        "id": "pPdd125jGtKt",
        "outputId": "ee989d08-a63f-4cf9-ca48-b0b213b36362"
      },
      "execution_count": null,
      "outputs": [
        {
          "output_type": "stream",
          "name": "stdout",
          "text": [
            "[7, 14, 21, 28, 35, 42, 49, 56, 63, 70, 77, 84, 91, 98]\n"
          ]
        }
      ]
    },
    {
      "cell_type": "markdown",
      "source": [
        "write a python script that does the following:\n",
        "1. loops through all the numbers btwn 1 and 100\n",
        "2. prints FIZZ if the number is divisible by 3\n",
        "3. prints BUZZ if the number is divisible by 5\n",
        "4. prints FIZZBUZZ if the number is divisible by both 3 and 5\n"
      ],
      "metadata": {
        "id": "EU2-bAoKJdD6"
      }
    },
    {
      "cell_type": "code",
      "source": [
        "for i in range(1, 101):\n",
        "  if i % 3 == 0 and i % 5 == 0:\n",
        "    print(f\"{i} FIZZBUZZ\")\n",
        "  elif i % 3 == 0:\n",
        "    print(f\"{i} FIZZ\")\n",
        "  elif i % 5 == 0:\n",
        "    print(f\"{i} BUZZ\")\n",
        "\n"
      ],
      "metadata": {
        "colab": {
          "base_uri": "https://localhost:8080/"
        },
        "id": "SDDRqG3ZJcwU",
        "outputId": "5abc5f13-ceb8-44bd-8369-326e82bfe7e7"
      },
      "execution_count": null,
      "outputs": [
        {
          "output_type": "stream",
          "name": "stdout",
          "text": [
            "3 FIZZ\n",
            "5 BUZZ\n",
            "6 FIZZ\n",
            "9 FIZZ\n",
            "10 BUZZ\n",
            "12 FIZZ\n",
            "15 FIZZBUZZ\n",
            "18 FIZZ\n",
            "20 BUZZ\n",
            "21 FIZZ\n",
            "24 FIZZ\n",
            "25 BUZZ\n",
            "27 FIZZ\n",
            "30 FIZZBUZZ\n",
            "33 FIZZ\n",
            "35 BUZZ\n",
            "36 FIZZ\n",
            "39 FIZZ\n",
            "40 BUZZ\n",
            "42 FIZZ\n",
            "45 FIZZBUZZ\n",
            "48 FIZZ\n",
            "50 BUZZ\n",
            "51 FIZZ\n",
            "54 FIZZ\n",
            "55 BUZZ\n",
            "57 FIZZ\n",
            "60 FIZZBUZZ\n",
            "63 FIZZ\n",
            "65 BUZZ\n",
            "66 FIZZ\n",
            "69 FIZZ\n",
            "70 BUZZ\n",
            "72 FIZZ\n",
            "75 FIZZBUZZ\n",
            "78 FIZZ\n",
            "80 BUZZ\n",
            "81 FIZZ\n",
            "84 FIZZ\n",
            "85 BUZZ\n",
            "87 FIZZ\n",
            "90 FIZZBUZZ\n",
            "93 FIZZ\n",
            "95 BUZZ\n",
            "96 FIZZ\n",
            "99 FIZZ\n",
            "100 BUZZ\n"
          ]
        }
      ]
    },
    {
      "cell_type": "markdown",
      "source": [
        "Enumerate -is used to store both the index and the active element in a given sequential data type"
      ],
      "metadata": {
        "id": "6eW22KK0PA6s"
      }
    },
    {
      "cell_type": "code",
      "source": [
        "top_5prem = [\"Liverpool\", \"Arsenal\", \"NewCastle\",\"Chelsea\", \"Aston Villa\"]\n",
        "for index, i in enumerate (top_5prem):\n",
        "  print(f\"{index + 1}. {i}\")"
      ],
      "metadata": {
        "colab": {
          "base_uri": "https://localhost:8080/"
        },
        "id": "lesqnpupOYSk",
        "outputId": "a8ee9edb-3d12-4d31-ee85-1c5f1a2ee7aa"
      },
      "execution_count": null,
      "outputs": [
        {
          "output_type": "stream",
          "name": "stdout",
          "text": [
            "1. Liverpool\n",
            "2. Arsenal\n",
            "3. NewCastle\n",
            "4. Chelsea\n",
            "5. Aston Villa\n"
          ]
        }
      ]
    },
    {
      "cell_type": "markdown",
      "source": [
        "Nested Loops\n"
      ],
      "metadata": {
        "id": "l4jFNDXzP16k"
      }
    },
    {
      "cell_type": "code",
      "source": [
        "roles =[\"Machine Learning Engineer\", \" Data Scientist\" ]\n",
        "skills = [ \"Python Programming\", \"Machine Learning\", \"EDA\"]\n",
        "for role in roles:\n",
        "  print(f\"For a {role} role, you need experience in: \")\n",
        "  for skill in skills:\n",
        "    print(f\"- {skill}\")\n"
      ],
      "metadata": {
        "colab": {
          "base_uri": "https://localhost:8080/"
        },
        "id": "tnPM6_s8P4bO",
        "outputId": "32d5f434-f8b0-482c-dad4-5c1ff4005541"
      },
      "execution_count": null,
      "outputs": [
        {
          "output_type": "stream",
          "name": "stdout",
          "text": [
            "For a Machine Learning Engineer role, you need experience in: \n",
            "- Python Programming\n",
            "- Machine Learning\n",
            "- EDA\n",
            "For a  Data Scientist role, you need experience in: \n",
            "- Python Programming\n",
            "- Machine Learning\n",
            "- EDA\n"
          ]
        }
      ]
    },
    {
      "cell_type": "markdown",
      "source": [
        "break - it terminates execution there and then\n",
        "continue - skips the current iteration and goes the next\n"
      ],
      "metadata": {
        "id": "16d5f2gLRNMm"
      }
    },
    {
      "cell_type": "code",
      "source": [
        "for i in range(10):\n",
        "  print (i)\n",
        "  if i == 4:\n",
        "    break"
      ],
      "metadata": {
        "colab": {
          "base_uri": "https://localhost:8080/"
        },
        "id": "prBrbJCJRMro",
        "outputId": "89fc4b20-78af-4add-be8d-bde52030ec22"
      },
      "execution_count": null,
      "outputs": [
        {
          "output_type": "stream",
          "name": "stdout",
          "text": [
            "0\n",
            "1\n",
            "2\n",
            "3\n",
            "4\n"
          ]
        }
      ]
    },
    {
      "cell_type": "code",
      "source": [
        "for i in range (10):\n",
        "  if i == 4:\n",
        "    continue\n",
        "  else:\n",
        "    print(i)\n"
      ],
      "metadata": {
        "colab": {
          "base_uri": "https://localhost:8080/"
        },
        "id": "ez3N1qLKSRf1",
        "outputId": "efb4bb6a-e9de-46a6-cfe6-1fd0ebeb56da"
      },
      "execution_count": null,
      "outputs": [
        {
          "output_type": "stream",
          "name": "stdout",
          "text": [
            "0\n",
            "1\n",
            "2\n",
            "3\n",
            "5\n",
            "6\n",
            "7\n",
            "8\n",
            "9\n"
          ]
        }
      ]
    },
    {
      "cell_type": "markdown",
      "source": [
        "While Loops\n",
        "- Executes a set of statements as lon as a condition is true\n",
        "- Remember to increment - so as to avoid infinite loops\n"
      ],
      "metadata": {
        "id": "3dXs3DqvXqBB"
      }
    },
    {
      "cell_type": "code",
      "source": [
        "count = 1\n",
        "while count <=5:\n",
        "  print(count)\n",
        "  count += 1"
      ],
      "metadata": {
        "colab": {
          "base_uri": "https://localhost:8080/"
        },
        "id": "4ZH4YgAeXpyj",
        "outputId": "64faea0e-4e1d-4a01-9304-301597d55fea"
      },
      "execution_count": null,
      "outputs": [
        {
          "output_type": "stream",
          "name": "stdout",
          "text": [
            "1\n",
            "2\n",
            "3\n",
            "4\n",
            "5\n"
          ]
        }
      ]
    },
    {
      "cell_type": "markdown",
      "source": [
        "Functions - block of code that performs a specific task. It only runs when called.\n",
        "- We can also pass info into a function - arguments and parameters\n",
        "- Types of Functions:\n",
        "1. In-Built functions - print(), type(), input(), range()\n",
        "2. User Defined -\n",
        "3. Standard Library functions\n",
        "4. Third-party library functions"
      ],
      "metadata": {
        "id": "9Z7qTPDOYrH1"
      }
    },
    {
      "cell_type": "markdown",
      "source": [
        "Parameters -  used during function defination\n",
        "Arguments - used in function Calling"
      ],
      "metadata": {
        "id": "_00F6AJibJA6"
      }
    },
    {
      "cell_type": "code",
      "source": [
        "def greetings(name, time):\n",
        "  if time == \"Morning\":\n",
        "    return f\"Good Morning, {name}\"\n",
        "  elif time == \"Afternoon\":\n",
        "    return f\"Good Afternoon, {name}\"\n",
        "  elif time == \"Evening\":\n",
        "    return f\"Good Evening, {name}\"\n",
        "  else:\n",
        "    return f\"Hello, {name}\"\n",
        "\n",
        "greetings(\"James\", \"Afternoon\")\n"
      ],
      "metadata": {
        "id": "0OzWMLkhZi09"
      },
      "execution_count": null,
      "outputs": []
    },
    {
      "cell_type": "markdown",
      "source": [
        "\n",
        "fahrenheit = (degress celsius * 9/5) + 32"
      ],
      "metadata": {
        "id": "JSNANk0GeVXy"
      }
    },
    {
      "cell_type": "markdown",
      "source": [
        "write a python script that coverts degrees celsius to degrees fahrenheit\n",
        "1. define a function that takes a  single parameter  -temp in  degrees celsius\n",
        "\n",
        "2. add functionaluty to convert it into degrees fahrenheit\n",
        "3 return the result ans save it in a fahrenheit variables\n",
        "4. print it out"
      ],
      "metadata": {
        "id": "wGUcwWPWf9Wm"
      }
    },
    {
      "cell_type": "code",
      "source": [
        "def temperature(temp_cel):\n",
        "  temp_fah = (temp_cel * 1.8) + 32\n",
        "  temp_kel = temp_cel + 273.5\n",
        "  return temp_fah,temp_kel\n",
        "\n",
        "temp_cel = float(input(\"Enter temperatute in degrees celsius: \"))\n",
        "temp_fah,temp_kel = temperature(temp_cel)\n",
        "\n",
        "print(f\"{temp_cel} in degrees celsius is equal to {temp_fah} degress Fahrenheint and also equal to {temp_kel} Kelvins\")\n"
      ],
      "metadata": {
        "colab": {
          "base_uri": "https://localhost:8080/"
        },
        "id": "bcGmeDqhe93O",
        "outputId": "a550682a-e704-4b2c-b01f-9e8994b4e97d"
      },
      "execution_count": null,
      "outputs": [
        {
          "output_type": "stream",
          "name": "stdout",
          "text": [
            "Enter temperatute in degrees celsius: 34\n",
            "34.0 in degrees celsius is equal to 93.2 degress Fahrenheint and also equal to 307.5 Kelvins\n"
          ]
        }
      ]
    },
    {
      "cell_type": "markdown",
      "source": [
        "write a python script that does the following:\n",
        "1. a function that calc the vol of a sphere\n",
        "2. function that calc the area of circle\n",
        "3. func that calc the vol of a cube\n",
        "4. function that calc the SA of a closed cylinder"
      ],
      "metadata": {
        "id": "uRQ3RbIsoJ80"
      }
    },
    {
      "cell_type": "code",
      "source": [
        "def vol_of_sphere(radius):\n",
        "  volume = 4/3 * 3.142 * (radius**3)\n",
        "  print(f\"The Volume of the Sphere whose radius is {radius} the volume is: {round(volume,4)} \" )\n",
        "  return radius\n",
        "\n",
        "def area_of_circle(radius):\n",
        "  areacircle = 3.142 * (radius**2)\n",
        "  print(f\"The area of the circle whose radius is {radius} is: {round(areacircle, 4)}\")\n",
        "  return radius\n",
        "def vol_of_cube(length):\n",
        "  vol_cube =(length**3)\n",
        "  print(f\"The volume of the cube whose length is {length} is: {round(vol_cube, 4)}\")\n",
        "  return length\n",
        "\n",
        "def sa_of_cylinder(radius, height):\n",
        "  sa_cylinder = 2*(3.142 * (radius**2)) + 3.142 * 2 * radius * height\n",
        "  print(f\"The Surface Area of the Cylinder whose radius is {radius} and whose height is {height} is: {round(sa_cylinder,4)} \")\n",
        "  return radius, height\n",
        "\n",
        "\n",
        "user_input = input(\"\"\"\n",
        "Pick one of the following:\n",
        "1. Volume of a sphere\n",
        "2. Area of a Circle\n",
        "3. Volume of a Cube\n",
        "4. Surface Area of a cylinder\n",
        "\"\"\")\n",
        "\n",
        "if user_input == \"1\":\n",
        "  radius = float(input(\"Enter the radius of the Sphere: \"))\n",
        "  vol_of_sphere( radius)\n",
        "elif user_input == \"2\":\n",
        "  radius = float(input(\"Enter the radius of the Circle: \"))\n",
        "  area_of_circle(radius)\n",
        "elif user_input == \"3\":\n",
        "  length = float(input(\"Enter the length of the cube: \"))\n",
        "  vol_of_cube(length)\n",
        "elif user_input == \"4\":\n",
        "   user_radius = float(input(\"Enter the radius of the circle: \"))\n",
        "   user_height = float(input(\"Enter the height of the cylinder: \"))\n",
        "   sa_of_cylinder(radius=user_radius, height=user_height)\n",
        "else:\n",
        "  print(\"Invalid input\")\n"
      ],
      "metadata": {
        "id": "kKiJy3eFoo-7",
        "colab": {
          "base_uri": "https://localhost:8080/"
        },
        "outputId": "acaf08ae-78f1-4bde-a410-a2b9f1200570"
      },
      "execution_count": null,
      "outputs": [
        {
          "output_type": "stream",
          "name": "stdout",
          "text": [
            "\n",
            "Pick one of the following:\n",
            "1. Volume of a sphere\n",
            "2. Area of a Circle\n",
            "3. Volume of a Cube\n",
            "4. Surface Area of a cylinder\n",
            "4\n",
            "Enter the radius of the circle: 7\n",
            "Enter the height of the cylinder: 14\n",
            "The Surface Area of the Cylinder whose radius is 7.0 and whose height is 14.0 is: 923.748 \n"
          ]
        }
      ]
    },
    {
      "cell_type": "markdown",
      "source": [
        "Libraries/modules - scripts or files that contain code/makes oyr work easier\n",
        "pip = Python installer package\n",
        "Syntax: !pip install libray_names"
      ],
      "metadata": {
        "id": "bTL7mzjXbvA-"
      }
    },
    {
      "cell_type": "markdown",
      "source": [
        "Math libary - contains mathematical procedures"
      ],
      "metadata": {
        "id": "sSPM-HWle9CT"
      }
    },
    {
      "cell_type": "code",
      "source": [
        "import math\n",
        "#print(math.sqrt(234567))\n",
        "num = 234.567689\n",
        "#rounding off to the x decimal places\n",
        "print(round(num,2))\n",
        "\n",
        "#rounding up\n",
        "print(math.ceil(num))\n",
        "#rounding down\n",
        "print(math.floor(num))"
      ],
      "metadata": {
        "colab": {
          "base_uri": "https://localhost:8080/"
        },
        "id": "DHcyB0NYfCiF",
        "outputId": "05c15908-5253-4cb9-9c8c-fdab77011031"
      },
      "execution_count": null,
      "outputs": [
        {
          "output_type": "stream",
          "name": "stdout",
          "text": [
            "234.57\n",
            "235\n",
            "234\n"
          ]
        }
      ]
    },
    {
      "cell_type": "markdown",
      "source": [
        "random library - used to randomize things"
      ],
      "metadata": {
        "id": "j6p49SaWguhI"
      }
    },
    {
      "cell_type": "code",
      "source": [
        "import random\n",
        "print(random.randrange(1,100))"
      ],
      "metadata": {
        "colab": {
          "base_uri": "https://localhost:8080/"
        },
        "id": "9wst_UM0gzox",
        "outputId": "fa79d7f1-bfd9-4b93-a305-05d9be8985f6"
      },
      "execution_count": null,
      "outputs": [
        {
          "output_type": "stream",
          "name": "stdout",
          "text": [
            "64\n"
          ]
        }
      ]
    },
    {
      "cell_type": "markdown",
      "source": [
        "use the random library to generate a list of 5 random numbers of btwn 1 - 500\n",
        "- for loop\n",
        "- generate a random number each time  - append to that list"
      ],
      "metadata": {
        "id": "_K2T_k45hYs_"
      }
    },
    {
      "cell_type": "code",
      "source": [
        "list1 = []\n",
        "for i in range(5):\n",
        "  number = random.randrange(1,501)\n",
        "  list1.append(number)\n",
        "print(list1)\n",
        "\n",
        "\n"
      ],
      "metadata": {
        "colab": {
          "base_uri": "https://localhost:8080/"
        },
        "id": "A93BtN5shpcH",
        "outputId": "fa947d5a-2711-440a-b325-9a33feab90c8"
      },
      "execution_count": null,
      "outputs": [
        {
          "output_type": "stream",
          "name": "stdout",
          "text": [
            "[113, 230, 483, 438, 360]\n"
          ]
        }
      ]
    },
    {
      "cell_type": "markdown",
      "source": [
        "run 1000 iterations, and give the percentage result for each phone brand"
      ],
      "metadata": {
        "id": "NOd3muprlZo5"
      }
    },
    {
      "cell_type": "code",
      "source": [
        "import random\n",
        "phone_brands = [\"Iphone\", \"Samsung\", \"Oppo\", \"Techno\", \"Infinix\", \"Nokia\"]\n",
        "iphone =[]\n",
        "samsung = []\n",
        "oppo = []\n",
        "techno = []\n",
        "infinix = []\n",
        "nokia = []\n",
        "for i in range(1000):\n",
        "  iteration = random.choice(phone_brands)\n",
        "  if iteration == \"Iphone\":\n",
        "    iphone.append(iteration)\n",
        "  elif iteration == \"Samsung\":\n",
        "    samsung.append(iteration)\n",
        "  elif iteration == \"Oppo\":\n",
        "    oppo.append(iteration)\n",
        "  elif iteration == \"Techno\":\n",
        "    techno.append(iteration)\n",
        "  elif iteration == \"Infinix\":\n",
        "    infinix.append(iteration)\n",
        "  elif iteration == \"Nokia\":\n",
        "    nokia.append(iteration)\n",
        "\n",
        "\n",
        "len_iphone = len(iphone)\n",
        "len_samsung = len(samsung)\n",
        "len_oppo = len(oppo)\n",
        "len_techno = len(techno)\n",
        "len_infinix = len(infinix)\n",
        "len_nokia = len(nokia)\n",
        "\n",
        "print(f\"The percentage of Iphones is {(len_iphone /1000)* 100}%\")\n",
        "print(f\"The percentage of samsung is {(len_samsung /1000) * 100}%\")\n",
        "print(f\"The percentage of Oppo is {(len_oppo /1000) * 100}%\")\n",
        "print(f\"The percentage of Techno is {(len_techno /1000) * 100}%\")\n",
        "print(f\"The percentage of Infinix is {(len_infinix /1000) * 100}%\")\n",
        "print(f\"The percentage of Nokia is {(len_nokia /1000) * 100}%\")\n",
        "\n",
        "\n"
      ],
      "metadata": {
        "colab": {
          "base_uri": "https://localhost:8080/"
        },
        "id": "QAITKXz8khxL",
        "outputId": "0af57de8-5a16-4e7f-d05e-1f9325156ff0"
      },
      "execution_count": null,
      "outputs": [
        {
          "output_type": "stream",
          "name": "stdout",
          "text": [
            "The percentage of Iphones is 16.900000000000002%\n",
            "The percentage of samsung is 13.600000000000001%\n",
            "The percentage of Oppo is 17.299999999999997%\n",
            "The percentage of Techno is 17.7%\n",
            "The percentage of Infinix is 17.9%\n",
            "The percentage of Nokia is 16.6%\n"
          ]
        }
      ]
    },
    {
      "cell_type": "markdown",
      "source": [
        "Rock paper scissors\n"
      ],
      "metadata": {
        "id": "mqIOyy55kc9w"
      }
    },
    {
      "cell_type": "markdown",
      "source": [
        "include 3 rounds of the game while tracking the user's score and the pc's score and display the winner and the scores\n"
      ],
      "metadata": {
        "id": "3mGedak20-O-"
      }
    },
    {
      "cell_type": "markdown",
      "source": [],
      "metadata": {
        "id": "TD_-qcW7rztF"
      }
    },
    {
      "cell_type": "code",
      "source": [
        "import random\n",
        "print(\"Welcome to Rock Paper Scissors Game!\")\n",
        "print(\"-----------------------------------\")\n",
        "picking_options = [\"rock\", \"paper\", \"scissors\"]\n",
        "pc_score = 0\n",
        "user_score = 0\n",
        "for i in range(10):\n",
        "  if pc_score ==2 or user_score ==2:\n",
        "    break\n",
        "  print(f\"Round {i}\")\n",
        "  pc_option = random.choice(picking_options)\n",
        "  user_choice = input(\"Enter your choice, Rock, Paper, Scissors: \").lower()\n",
        "  if user_choice in picking_options:\n",
        "    if user_choice == pc_option:\n",
        "      print(\"It's a draw!\")\n",
        "\n",
        "    elif user_choice ==\"rock\" and pc_option == \"scissors\" or user_choice == \"paper\" and pc_option == \"rock\" or user_choice == \"scissors\" and pc_option == \"paper\":\n",
        "        print(f\" You win this round. The computer chose {pc_option} and you picked {user_choice}\")\n",
        "        user_score +=1\n",
        "    else:\n",
        "      print(f\"You lost this round. You chose {user_choice} the user picked {pc_option}\")\n",
        "      pc_score +=1\n",
        "  else:\n",
        "      print(\"Invalid Input\")\n",
        "\n",
        "print(\"\"\"\n",
        "-----------------------------------\n",
        "\"\"\")\n",
        "\n",
        "if user_score > pc_score:\n",
        "  print(f\"YOU WIN! Your score is {user_score} and the computer's score is {pc_score}\")\n",
        "else:\n",
        "  print(f\"Better luck next time. Your score is {user_score} and the computer's score is {pc_score}\")\n",
        "\n"
      ],
      "metadata": {
        "colab": {
          "base_uri": "https://localhost:8080/"
        },
        "id": "63YUg6fOs0o9",
        "outputId": "6fe042fd-99da-4fe7-a246-b75101d682ce"
      },
      "execution_count": null,
      "outputs": [
        {
          "output_type": "stream",
          "name": "stdout",
          "text": [
            "Welcome to Rock Paper Scissors Game!\n",
            "-----------------------------------\n",
            "Round 0\n",
            "Enter your choice, Rock, Paper, Scissors: scissors\n",
            "It's a draw!\n",
            "Round 1\n",
            "Enter your choice, Rock, Paper, Scissors: paper\n",
            " You win this round. The computer chose rock and you picked paper\n",
            "Round 2\n",
            "Enter your choice, Rock, Paper, Scissors: rock\n",
            "You lost this round. You chose rock the user picked paper\n",
            "Round 3\n",
            "Enter your choice, Rock, Paper, Scissors: paper\n",
            "You lost this round. You chose paper the user picked scissors\n",
            " \n",
            "-----------------------------------\n",
            "\n",
            "Better luck next time. Your score is 1 and the computer's score is 2\n"
          ]
        }
      ]
    },
    {
      "cell_type": "code",
      "source": [],
      "metadata": {
        "id": "g7gkgF_S1YRi"
      },
      "execution_count": null,
      "outputs": []
    }
  ]
}